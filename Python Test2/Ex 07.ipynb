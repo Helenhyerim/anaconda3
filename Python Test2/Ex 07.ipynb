{
 "cells": [
  {
   "cell_type": "code",
   "execution_count": null,
   "metadata": {},
   "outputs": [],
   "source": []
  },
  {
   "cell_type": "code",
   "execution_count": 28,
   "metadata": {},
   "outputs": [
    {
     "name": "stdout",
     "output_type": "stream",
     "text": [
      "합계: 9 평균: 3.0\n"
     ]
    }
   ],
   "source": [
    "# 06. 세개의 정수 전달받아 합계와 평균값 리턴 함수\n",
    "def even(a,b,c):\n",
    "    s = 0\n",
    "    a = 0\n",
    "    s = a + b + c\n",
    "    a = s/3\n",
    "    return s, a\n",
    "    \n",
    "d = even(2,3,6)\n",
    "print('합계:', d[0], '평균:', d[1])"
   ]
  },
  {
   "cell_type": "code",
   "execution_count": null,
   "metadata": {},
   "outputs": [],
   "source": [
    "# 7 임의 개수의 인수 전달, 가장 큰 숫자 리턴 함수"
   ]
  },
  {
   "cell_type": "code",
   "execution_count": 29,
   "metadata": {},
   "outputs": [
    {
     "name": "stdout",
     "output_type": "stream",
     "text": [
      "14\n"
     ]
    }
   ],
   "source": [
    "def large(*a):\n",
    "    n = a[0]\n",
    "    for i in a:\n",
    "        if i >= n:\n",
    "            n = i        \n",
    "    return n\n",
    "\n",
    "print(large(2,3,6,7,9,14,0,3))"
   ]
  },
  {
   "cell_type": "code",
   "execution_count": 37,
   "metadata": {},
   "outputs": [
    {
     "name": "stdout",
     "output_type": "stream",
     "text": [
      "1999년 8월 10일\n",
      "1999년 8월 10일\n",
      "        10원\n",
      "    100000원\n",
      "      1000원\n",
      "       100원\n",
      "  3.3\n",
      "3e8\n"
     ]
    }
   ],
   "source": [
    "print(1999,'년 ',8,'월 ',10,'일', sep='')\n",
    "print('%d년 %d월 %d일' %(1999,8,10))\n",
    "print('%10d원' %10)\n",
    "print('%10d원' %100000)\n",
    "print('%10d원' %1000)\n",
    "print('%10d원' %100)\n",
    "print('%5.1f' %(10/3))\n",
    "print('%x' %1000)"
   ]
  },
  {
   "cell_type": "code",
   "execution_count": null,
   "metadata": {},
   "outputs": [],
   "source": []
  }
 ],
 "metadata": {
  "kernelspec": {
   "display_name": "Python 3",
   "language": "python",
   "name": "python3"
  },
  "language_info": {
   "codemirror_mode": {
    "name": "ipython",
    "version": 3
   },
   "file_extension": ".py",
   "mimetype": "text/x-python",
   "name": "python",
   "nbconvert_exporter": "python",
   "pygments_lexer": "ipython3",
   "version": "3.8.5"
  }
 },
 "nbformat": 4,
 "nbformat_minor": 4
}
