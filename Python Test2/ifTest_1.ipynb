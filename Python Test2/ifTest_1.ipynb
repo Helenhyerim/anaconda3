{
 "cells": [
  {
   "cell_type": "markdown",
   "metadata": {},
   "source": [
    "if문 연습"
   ]
  },
  {
   "cell_type": "code",
   "execution_count": 12,
   "metadata": {},
   "outputs": [
    {
     "name": "stdout",
     "output_type": "stream",
     "text": [
      "정수입력:7\n",
      "n은 0또는 양수이다\n",
      "가\n",
      "가\n",
      "아무것도 아님\n",
      "프로그램의 마지막 행\n"
     ]
    }
   ],
   "source": [
    "# if문의 형식 (5장)\n",
    "n = int(input('정수입력:'))\n",
    "\n",
    "#1\n",
    "if n > 100:\n",
    "    print('n은 100보다 크다')\n",
    "\n",
    "#2\n",
    "if n >= 0:\n",
    "    print('n은 0또는 양수이다')\n",
    "else:\n",
    "    print('n은 음수이다')\n",
    "    \n",
    "#3\n",
    "if n < 0 or n > 100:\n",
    "    print('입력오류')\n",
    "if n >= 90 and n <= 100:\n",
    "    print('수')\n",
    "if n >= 80 and n < 90:\n",
    "    print('우')\n",
    "if n >= 70 and n < 80:\n",
    "    print('미')\n",
    "if n >= 60 and n < 70:\n",
    "    print('양')\n",
    "if n >= 0 and n < 60:\n",
    "    print('가')\n",
    "\n",
    "#4\n",
    "if n > 100:\n",
    "    print('입력오류')\n",
    "elif n>= 90:\n",
    "    print('수')\n",
    "elif n>= 80:\n",
    "    print('우')\n",
    "elif n>= 70:\n",
    "    print('미')\n",
    "elif n>= 60:\n",
    "    print('양')\n",
    "elif n>= 0:\n",
    "    print('가')\n",
    "    \n",
    "    \n",
    "    \n",
    "# n이 3의 배수인지, 5의 배수인지, 3과 5의 공배수인지\n",
    "if n % 3 == 0 and n % 5 != 0:\n",
    "    print('3의 배수')\n",
    "elif n % 3 != 0 and n % 5 == 0:\n",
    "    print('5의 배수')\n",
    "elif n % 3 == 0 and n % 5 == 0:\n",
    "    print('3과 5의 공배수')\n",
    "else:\n",
    "    print('3의배수도 5의배수도 아님')\n",
    "\n",
    "print('프로그램의 마지막 행')\n"
   ]
  },
  {
   "cell_type": "code",
   "execution_count": 14,
   "metadata": {},
   "outputs": [
    {
     "name": "stdout",
     "output_type": "stream",
     "text": [
      "T\n",
      "T\n"
     ]
    }
   ],
   "source": [
    "# 논리식이 아닌 경우의 True, False 판단\n",
    "a = 1\n",
    "if a == 1:\n",
    "    print('T')\n",
    "    \n",
    "b = 'abc'\n",
    "if b == 'abc':\n",
    "    print('T')\n",
    "else:\n",
    "    print('F')"
   ]
  }
 ],
 "metadata": {
  "kernelspec": {
   "display_name": "Python 3",
   "language": "python",
   "name": "python3"
  },
  "language_info": {
   "codemirror_mode": {
    "name": "ipython",
    "version": 3
   },
   "file_extension": ".py",
   "mimetype": "text/x-python",
   "name": "python",
   "nbconvert_exporter": "python",
   "pygments_lexer": "ipython3",
   "version": "3.8.5"
  }
 },
 "nbformat": 4,
 "nbformat_minor": 4
}
