{
 "cells": [
  {
   "cell_type": "markdown",
   "metadata": {},
   "source": [
    "<h1>리스트</h1>"
   ]
  },
  {
   "cell_type": "code",
   "execution_count": 4,
   "metadata": {},
   "outputs": [
    {
     "name": "stdout",
     "output_type": "stream",
     "text": [
      "[10, 30, 20, 40, 50, 70, 88, 99]\n",
      "10\n",
      "[30, 20, 40]\n",
      "99\n"
     ]
    }
   ],
   "source": [
    "score = [10, 30, 20, 40, 50, 70, 88, 99]\n",
    "\n",
    "print(score)\n",
    "print(score[0])\n",
    "print(score[1:4])\n",
    "print(score[-1])"
   ]
  },
  {
   "cell_type": "code",
   "execution_count": 5,
   "metadata": {},
   "outputs": [
    {
     "name": "stdout",
     "output_type": "stream",
     "text": [
      "10\n",
      "30\n",
      "20\n",
      "40\n",
      "50\n",
      "70\n",
      "88\n",
      "99\n"
     ]
    }
   ],
   "source": [
    "# 모든 원소 순회하는 for문 1\n",
    "for i in score:\n",
    "    print(i)"
   ]
  },
  {
   "cell_type": "code",
   "execution_count": 7,
   "metadata": {},
   "outputs": [
    {
     "name": "stdout",
     "output_type": "stream",
     "text": [
      "합: 407\n"
     ]
    }
   ],
   "source": [
    "# 리스트 내의 모든 요소 합계\n",
    "sum = 0\n",
    "for i in score:\n",
    "    sum += i\n",
    "print('합:',sum)"
   ]
  },
  {
   "cell_type": "code",
   "execution_count": 10,
   "metadata": {},
   "outputs": [
    {
     "name": "stdout",
     "output_type": "stream",
     "text": [
      "True\n",
      "True\n"
     ]
    }
   ],
   "source": [
    "# 검색\n",
    "n = 40\n",
    "for i in score:\n",
    "    if (n == i):\n",
    "        print(True)\n",
    "        break\n",
    "        \n",
    "# in / not in\n",
    "print (40 in score)"
   ]
  },
  {
   "cell_type": "code",
   "execution_count": 20,
   "metadata": {},
   "outputs": [
    {
     "name": "stdout",
     "output_type": "stream",
     "text": [
      "[10, 2, 3]\n",
      "[10, 30, 40]\n",
      "[1, 2, 3, 4, 40]\n",
      "[30, 40]\n",
      "[40]\n"
     ]
    }
   ],
   "source": [
    "score = [1,2,3]\n",
    "score[0] = 10\n",
    "print(score)\n",
    "score[1:3] = [30,40]\n",
    "print(score)\n",
    "score[0:2] = [1,2,3,4]\n",
    "print(score)\n",
    "score[0:4]=[30]\n",
    "print(score)\n",
    "del score[0]\n",
    "print(score)"
   ]
  },
  {
   "cell_type": "code",
   "execution_count": 25,
   "metadata": {},
   "outputs": [
    {
     "name": "stdout",
     "output_type": "stream",
     "text": [
      "[0, 1, 2, 3, 4]\n",
      "[1, 2, 3, 4, 5, 6, 7, 8, 9]\n",
      "[2, 4, 6, 8, 10]\n",
      "[3, 6, 9, 12, 15, 18]\n",
      "[24, 48, 72, 96]\n"
     ]
    }
   ],
   "source": [
    "# 리스트 생성\n",
    "li = []\n",
    "for n in range(5):\n",
    "    li.append(n)\n",
    "print(li)\n",
    "\n",
    "li2 = [n for n in range(1, 10)]\n",
    "print(li2)\n",
    "\n",
    "li3 = [n * 2 for n in range(1, 6)]\n",
    "print(li3)\n",
    "\n",
    "li4 = [n for n in range(1, 20) if n % 3 ==0]\n",
    "print(li4)\n",
    "\n",
    "# 1~100 중 6의 배수이면서 8의 배수인 수들로 리스트 생성\n",
    "li5 = [n for n in range(1, 101) if n % 6 == 0 and n % 8 == 0]\n",
    "print(li5)"
   ]
  },
  {
   "cell_type": "code",
   "execution_count": 37,
   "metadata": {},
   "outputs": [
    {
     "name": "stdout",
     "output_type": "stream",
     "text": [
      "[1, 1, 2, 3, 2, 1, 4, 5, 9]\n",
      "[8, 1, 1, 2, 3, 2, 1, 4, 5, 9]\n",
      "[1, 1, 2, 3, 2, 1, 4, 5, 9]\n",
      "1 [1, 1, 2, 3, 2, 1, 4, 5, 9]\n",
      "1 [1, 2, 3, 2, 1, 4, 5, 9]\n",
      "8\n",
      "6\n",
      "2\n",
      "[1, 2, 3, 5, 9]\n",
      "[1, 2, 3, 5, 9]\n"
     ]
    }
   ],
   "source": [
    "# 리스트의 메소드들\n",
    "li = [ 1,1,2,3,2,1,4,5]\n",
    "\n",
    "li.append(9)   # 요소 맨 뒤에 추가\n",
    "print(li)\n",
    "li.insert(0,8)  # 지정한 위치에 요소 추가\n",
    "print(li)\n",
    "del(li[0])\n",
    "print(li)\n",
    "\n",
    "x = li[0]\n",
    "print(x, li)\n",
    "x = li.pop(0) # 잘라서 꺼내옴\n",
    "print(x, li)\n",
    "\n",
    "print(len(li))\n",
    "print(li.index(5)) # 5의 위치\n",
    "print(li.count(1))  # 1의 개수\n",
    "\n",
    "# 정렬\n",
    "li = [5,3,2,1,9]\n",
    "li.sort()\n",
    "print(li)\n",
    "\n",
    "li = [ 5,3,2,1,9]\n",
    "li2 = sorted(li)\n",
    "print(li2)"
   ]
  },
  {
   "cell_type": "code",
   "execution_count": null,
   "metadata": {},
   "outputs": [],
   "source": []
  },
  {
   "cell_type": "code",
   "execution_count": null,
   "metadata": {},
   "outputs": [],
   "source": []
  },
  {
   "cell_type": "code",
   "execution_count": null,
   "metadata": {},
   "outputs": [],
   "source": [
    "# 정수 10개 입력받아 리스트 저장\n",
    "# 리스트 평균과 평균에서 10 이상 차이나는 값들 출력\n",
    "\n",
    "nlist = []\n",
    "sum = 0\n",
    "\n",
    "# 입력\n",
    "for n in range(1, 11):\n",
    "    num = int(input('정수입력:'))\n",
    "    nlist.append(num)\n",
    "print(nlist)\n",
    "\n",
    "# 계산\n",
    "for n in nlist:\n",
    "    sum += n\n",
    "\n",
    "avg = sum / len(nlist)\n",
    "print('평균:', avg)\n",
    "\n",
    "# 검색\n",
    "for n in nlist:\n",
    "    if avg - n >= 10 or n - avg >= 10:\n",
    "        print(n, end='')"
   ]
  },
  {
   "cell_type": "code",
   "execution_count": 3,
   "metadata": {},
   "outputs": [
    {
     "name": "stdout",
     "output_type": "stream",
     "text": [
      "정수입력:3\n",
      "정수입력:55\n",
      "정수입력:24\n",
      "정수입력:67\n",
      "정수입력:27\n",
      "정수입력:93\n",
      "정수입력:87\n",
      "정수입력:55\n",
      "정수입력:4\n",
      "정수입력:8\n",
      "순위입력:9\n",
      "정렬전 [3, 55, 24, 67, 27, 93, 87, 55, 4, 8]\n",
      "데이터: [93, 87, 67, 55, 55, 27, 24, 8, 4, 3]\n",
      "9 번째로 큰 수는 4 입니다.\n",
      "데이터: [3, 4, 8, 24, 27, 55, 55, 67, 87, 93]\n",
      "9 번째로 큰 수는 87 입니다.\n"
     ]
    }
   ],
   "source": [
    "###### 정수 10개 입력받아 리스트 저장\n",
    "# 정수 1개를 추가로 입력 받음\n",
    "# n 번째로 큰 수는 얼마?\n",
    "\n",
    "# 실행 예\n",
    "# 정수 입력:\n",
    "# 6\n",
    "# 3\n",
    "# 2\n",
    "# ..\n",
    "# 4\n",
    "# 순위입력 : 3\n",
    "# 결과 : 3번째로 큰 수 입니다.\n",
    "\n",
    "nlist = []\n",
    "\n",
    "# 입력\n",
    "for n in range(10):\n",
    "    num = int(input('정수입력:'))\n",
    "    nlist.append(num)\n",
    "rank = int(input('순위입력:'))\n",
    "print('정렬전', nlist)\n",
    "\n",
    "# 정렬1\n",
    "nlist.sort(reverse = True)\n",
    "print('데이터:', nlist)\n",
    "print(rank, '번째로 큰 수는', nlist[rank -1], '입니다.')\n",
    "\n",
    "# 정렬2\n",
    "nlist.sort()\n",
    "print('데이터:', nlist)\n",
    "print(rank,'번째로 작은 수는', nlist[rank -1], '입니다.')"
   ]
  },
  {
   "cell_type": "code",
   "execution_count": null,
   "metadata": {},
   "outputs": [],
   "source": []
  }
 ],
 "metadata": {
  "kernelspec": {
   "display_name": "Python 3",
   "language": "python",
   "name": "python3"
  },
  "language_info": {
   "codemirror_mode": {
    "name": "ipython",
    "version": 3
   },
   "file_extension": ".py",
   "mimetype": "text/x-python",
   "name": "python",
   "nbconvert_exporter": "python",
   "pygments_lexer": "ipython3",
   "version": "3.8.5"
  }
 },
 "nbformat": 4,
 "nbformat_minor": 4
}
