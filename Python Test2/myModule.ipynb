{
 "cells": [
  {
   "cell_type": "code",
   "execution_count": null,
   "metadata": {},
   "outputs": [],
   "source": [
    "# 모듈은 파이썬 코드로 저장해야 함, ipynd 가 아니라 py\n",
    "# 클래스의 정의\n",
    "class product : \n",
    "    # 생성자\n",
    "    def __init__(self, c, n, p):\n",
    "        self.code = c\n",
    "        self.name = n\n",
    "        self.price = p\n",
    "        \n",
    "    def printProduct(self):\n",
    "        print('상품명은', self.name, '입니다')\n",
    "        \n",
    "    def __str__(self):\n",
    "        return '코드:' + self.code + '상품명:' + self.name + ' 가격:' + str(self.price)\n",
    "    \n",
    "    \n",
    "# 함수의 정의\n",
    "def test():\n",
    "    print('myModule 모듈의 test() 함수 실행됨')\n",
    "    "
   ]
  }
 ],
 "metadata": {
  "kernelspec": {
   "display_name": "Python 3",
   "language": "python",
   "name": "python3"
  },
  "language_info": {
   "codemirror_mode": {
    "name": "ipython",
    "version": 3
   },
   "file_extension": ".py",
   "mimetype": "text/x-python",
   "name": "python",
   "nbconvert_exporter": "python",
   "pygments_lexer": "ipython3",
   "version": "3.8.5"
  }
 },
 "nbformat": 4,
 "nbformat_minor": 4
}
