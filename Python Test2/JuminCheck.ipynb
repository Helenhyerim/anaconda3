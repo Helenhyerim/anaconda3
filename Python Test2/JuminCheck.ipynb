{
 "cells": [
  {
   "cell_type": "markdown",
   "metadata": {},
   "source": [
    "<h1>주민 등록번호 확인</h1>\n",
    "<p>주민번호를 입력받는다 (900000-1234567 형식)</p>\n",
    "<p>형식이 잘못된 경우 오류 메세지 출력</p>\n",
    "<p>- 글자수가 14글자</p>\n",
    "<p>- '-' 기호가 제자리에 (7번째 글자) 있는지</p>\n",
    "<p>- 7번째 제외하고 모두 숫자</p>\n",
    "<p>- 성별이 1,2,3,4 중에 하나여야</p>\n",
    "<p>- 태어난 월이 1~12 여야</p>\n",
    "<p>- 태어난 일이 1~31 여야</p>\n",
    "\n",
    "<p>정상적인 주민번호면 다음 정보 출력</p>\n",
    "<p>0000년 1월 1일생 00세 남자입니다.</p>"
   ]
  },
  {
   "cell_type": "code",
   "execution_count": 1,
   "metadata": {},
   "outputs": [
    {
     "name": "stdout",
     "output_type": "stream",
     "text": [
      "2021\n"
     ]
    }
   ],
   "source": [
    "import datetime\n",
    "\n",
    "now = datetime.datetime.now()\n",
    "print(now.year)"
   ]
  },
  {
   "cell_type": "code",
   "execution_count": 11,
   "metadata": {},
   "outputs": [
    {
     "name": "stdout",
     "output_type": "stream",
     "text": [
      "주민번호 입력: 930809-1323232\n",
      "1993 년 8 월 9 일생 28 세 남자 입니다.\n"
     ]
    }
   ],
   "source": [
    "num = input('주민번호 입력: ')\n",
    "splitNum = num.split('-')\n",
    "import datetime\n",
    "now = datetime.datetime.now()\n",
    "\n",
    "year = int(num[0:2])\n",
    "if num[7] in '12':\n",
    "    year += 1900\n",
    "else:\n",
    "    year += 2000\n",
    "    \n",
    "month = int(num[2:4])\n",
    "day = int(num[4:6])\n",
    "\n",
    "age = now.year - year\n",
    "\n",
    "if num[7] in '13':\n",
    "    sex = '남자'\n",
    "else:\n",
    "    sex = '여자'\n",
    "\n",
    "# = strip(num)\n",
    "if len(num) != 14:\n",
    "    print('오류1')\n",
    "elif num[6] != '-':\n",
    "    print('오류2')\n",
    "elif  num[:6].isdecimal() == False or num[7:].isdecimal() == False:\n",
    "    print('오류3')\n",
    "elif int(num[7]) > 4 or int(num[7]) < 1:\n",
    "    print('오류3')\n",
    "elif int(num[2:4]) > 12:\n",
    "    print('오류4')\n",
    "elif int(num[4:6]) > 31:\n",
    "    print('오류5')\n",
    "else:\n",
    "    print(year,'년',month,'월',day,'일생',age,'세',sex,'입니다.')"
   ]
  },
  {
   "cell_type": "code",
   "execution_count": null,
   "metadata": {},
   "outputs": [],
   "source": []
  }
 ],
 "metadata": {
  "kernelspec": {
   "display_name": "Python 3",
   "language": "python",
   "name": "python3"
  },
  "language_info": {
   "codemirror_mode": {
    "name": "ipython",
    "version": 3
   },
   "file_extension": ".py",
   "mimetype": "text/x-python",
   "name": "python",
   "nbconvert_exporter": "python",
   "pygments_lexer": "ipython3",
   "version": "3.8.5"
  }
 },
 "nbformat": 4,
 "nbformat_minor": 4
}
