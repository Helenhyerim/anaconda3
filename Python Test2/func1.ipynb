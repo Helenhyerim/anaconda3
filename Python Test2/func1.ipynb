{
 "cells": [
  {
   "cell_type": "markdown",
   "metadata": {},
   "source": [
    "함수\n",
    "-함수의 정의, 호출\n"
   ]
  },
  {
   "cell_type": "code",
   "execution_count": 10,
   "metadata": {},
   "outputs": [
    {
     "name": "stdout",
     "output_type": "stream",
     "text": [
      "<class 'int'>\n",
      "100\n",
      "<class 'int'>\n",
      "1\n",
      "<class 'str'>\n",
      "aaa\n",
      "10 20 30\n",
      "<class 'tuple'>\n",
      "(1, 2, 3)\n"
     ]
    }
   ],
   "source": [
    "def test():\n",
    "    print('test()함수 실행')\n",
    "    \n",
    "def test2(param):\n",
    "    print(type(param))\n",
    "    print(param)\n",
    "    return 1\n",
    "\n",
    "def test3(a, b, c):\n",
    "    print(a, b, c)\n",
    "\n",
    "def test4():\n",
    "    return 1,2,3\n",
    "\n",
    "\n",
    "\n",
    "r = test2(100)\n",
    "print(type(r))\n",
    "print(r)\n",
    "\n",
    "r = test2('aaa')\n",
    "\n",
    "test3(10,20,30)\n",
    "\n",
    "r = test4()\n",
    "print(type(r))\n",
    "print(r)"
   ]
  },
  {
   "cell_type": "code",
   "execution_count": 2,
   "metadata": {},
   "outputs": [
    {
     "name": "stdout",
     "output_type": "stream",
     "text": [
      "30\n",
      "9\n"
     ]
    },
    {
     "ename": "UnboundLocalError",
     "evalue": "local variable 'k' referenced before assignment",
     "output_type": "error",
     "traceback": [
      "\u001b[1;31m---------------------------------------------------------------------------\u001b[0m",
      "\u001b[1;31mUnboundLocalError\u001b[0m                         Traceback (most recent call last)",
      "\u001b[1;32m<ipython-input-2-6cb177222021>\u001b[0m in \u001b[0;36m<module>\u001b[1;34m\u001b[0m\n\u001b[0;32m     17\u001b[0m     \u001b[1;32mreturn\u001b[0m \u001b[0mk\u001b[0m\u001b[1;33m\u001b[0m\u001b[1;33m\u001b[0m\u001b[0m\n\u001b[0;32m     18\u001b[0m \u001b[1;33m\u001b[0m\u001b[0m\n\u001b[1;32m---> 19\u001b[1;33m \u001b[0mresult\u001b[0m \u001b[1;33m=\u001b[0m \u001b[0msum2\u001b[0m\u001b[1;33m(\u001b[0m\u001b[1;36m3\u001b[0m\u001b[1;33m,\u001b[0m\u001b[1;36m4\u001b[0m\u001b[1;33m)\u001b[0m\u001b[1;33m\u001b[0m\u001b[1;33m\u001b[0m\u001b[0m\n\u001b[0m\u001b[0;32m     20\u001b[0m \u001b[0mprint\u001b[0m\u001b[1;33m(\u001b[0m\u001b[0mresult\u001b[0m\u001b[1;33m)\u001b[0m\u001b[1;33m\u001b[0m\u001b[1;33m\u001b[0m\u001b[0m\n",
      "\u001b[1;32m<ipython-input-2-6cb177222021>\u001b[0m in \u001b[0;36msum2\u001b[1;34m(*num)\u001b[0m\n\u001b[0;32m     14\u001b[0m \u001b[1;33m\u001b[0m\u001b[0m\n\u001b[0;32m     15\u001b[0m \u001b[1;32mdef\u001b[0m \u001b[0msum2\u001b[0m\u001b[1;33m(\u001b[0m\u001b[1;33m*\u001b[0m\u001b[0mnum\u001b[0m\u001b[1;33m)\u001b[0m\u001b[1;33m:\u001b[0m\u001b[1;33m\u001b[0m\u001b[1;33m\u001b[0m\u001b[0m\n\u001b[1;32m---> 16\u001b[1;33m     \u001b[0mk\u001b[0m \u001b[1;33m+=\u001b[0m \u001b[0mnum\u001b[0m\u001b[1;33m\u001b[0m\u001b[1;33m\u001b[0m\u001b[0m\n\u001b[0m\u001b[0;32m     17\u001b[0m     \u001b[1;32mreturn\u001b[0m \u001b[0mk\u001b[0m\u001b[1;33m\u001b[0m\u001b[1;33m\u001b[0m\u001b[0m\n\u001b[0;32m     18\u001b[0m \u001b[1;33m\u001b[0m\u001b[0m\n",
      "\u001b[1;31mUnboundLocalError\u001b[0m: local variable 'k' referenced before assignment"
     ]
    }
   ],
   "source": [
    "# 2개의 숫자 합계\n",
    "def sum1(a, b):\n",
    "    c = a + b\n",
    "    return c\n",
    "\n",
    "# 전달받은 인수 2개의 합을 구해서 리턴\n",
    "\n",
    "a = sum1(10,20)\n",
    "print(a)\n",
    "\n",
    "\n",
    "\n",
    "print(sum1(4,5))\n"
   ]
  },
  {
   "cell_type": "code",
   "execution_count": 27,
   "metadata": {},
   "outputs": [
    {
     "name": "stdout",
     "output_type": "stream",
     "text": [
      "55\n"
     ]
    }
   ],
   "source": [
    "\n",
    "def sum2(a):\n",
    "    c = 0\n",
    "    for b in range(1,a+1):\n",
    "        c += b\n",
    "    return c\n",
    "\n",
    "\n",
    "# 1부터 전달받은 수까지의 합계\n",
    "a = sum2(10)\n",
    "print(a)"
   ]
  },
  {
   "cell_type": "code",
   "execution_count": 43,
   "metadata": {},
   "outputs": [
    {
     "name": "stdout",
     "output_type": "stream",
     "text": [
      "45\n",
      "45\n",
      "15\n"
     ]
    }
   ],
   "source": [
    "def sum3(a, b):\n",
    "    c = 0\n",
    "    \n",
    "    if a > b:\n",
    "        t = a\n",
    "        a = b\n",
    "        b = t\n",
    "        for d in range(a,b+1):\n",
    "            c += d        \n",
    "        return c\n",
    "    else:        \n",
    "        for d in range(a,b+1):\n",
    "            c += d        \n",
    "        return c\n",
    "    \n",
    "def sum33(a,b):\n",
    "    sum = 0\n",
    "    \n",
    "    if a < b:\n",
    "        for i in range(a, b+1):\n",
    "            sum += i\n",
    "    else:\n",
    "        for i in range(b, a+1):\n",
    "            sum += i\n",
    "    return sum\n",
    "\n",
    "# 전달받은 두 정수 사이의 모든 수 합계\n",
    "a = sum3(5, 10)\n",
    "print(a)\n",
    "\n",
    "a = sum3(10, 5)\n",
    "print(a)\n",
    "\n",
    "a = sum33(5, 1)\n",
    "print(a)"
   ]
  },
  {
   "cell_type": "code",
   "execution_count": 44,
   "metadata": {},
   "outputs": [
    {
     "name": "stdout",
     "output_type": "stream",
     "text": [
      "120\n"
     ]
    }
   ],
   "source": [
    "def fact(a):\n",
    "    mul = 1\n",
    "    for i in range(1, a+1):\n",
    "        mul *= i\n",
    "    return mul\n",
    "        \n",
    "\n",
    "# n! 구해서 리턴\n",
    "a = fact(5)\n",
    "print(a)"
   ]
  },
  {
   "cell_type": "code",
   "execution_count": 46,
   "metadata": {},
   "outputs": [],
   "source": [
    "def abc():\n",
    "    pass\n",
    "    \n",
    "    \n",
    "abc()"
   ]
  },
  {
   "cell_type": "code",
   "execution_count": 18,
   "metadata": {
    "scrolled": true
   },
   "outputs": [
    {
     "name": "stdout",
     "output_type": "stream",
     "text": [
      "(1,)\n",
      "1\n",
      "1\n",
      "(1, 2, 3, 4)\n",
      "4\n",
      "1\n",
      "('a', 'b')\n",
      "2\n",
      "a\n"
     ]
    }
   ],
   "source": [
    "# 가변인수를 가지는 함수\n",
    "def paramtest(*param): #tuple, 읽기 전용 자료\n",
    "    print(param)\n",
    "    print(len(param))\n",
    "    print(param[0])\n",
    "    \n",
    "paramtest(1)\n",
    "paramtest(1,2,3,4)\n",
    "paramtest('a','b')\n",
    "#paramtest()"
   ]
  },
  {
   "cell_type": "code",
   "execution_count": 16,
   "metadata": {
    "scrolled": false
   },
   "outputs": [
    {
     "name": "stdout",
     "output_type": "stream",
     "text": [
      "12\n",
      "9\n"
     ]
    }
   ],
   "source": [
    "# 전달된 모든 정수 합계\n",
    "def sum(*num):\n",
    "    s = 0\n",
    "    for n in range(len(num)):\n",
    "        s += num[n]\n",
    "    return s\n",
    "    \n",
    "def sum1(*num):    \n",
    "    s = 0\n",
    "    for n in num:\n",
    "        s += n\n",
    "    return s\n",
    "        \n",
    "print(sum(3,4,5))\n",
    "print(sum1(4,5))\n"
   ]
  },
  {
   "cell_type": "code",
   "execution_count": 26,
   "metadata": {},
   "outputs": [
    {
     "name": "stdout",
     "output_type": "stream",
     "text": [
      "1 2 0\n"
     ]
    }
   ],
   "source": [
    "#인수의 기본값 지정\n",
    "def paramtest2(a, b = 1, c = 0):\n",
    "    print(a, b, c)\n",
    "    \n",
    "paramtest2(1,2)"
   ]
  },
  {
   "cell_type": "code",
   "execution_count": 38,
   "metadata": {},
   "outputs": [
    {
     "name": "stdout",
     "output_type": "stream",
     "text": [
      "25\n",
      "9\n",
      "1 2 3 4 a b"
     ]
    }
   ],
   "source": [
    "# 정수 2개를 전달받아 a의 b승을 리턴.정수를 1개만 전달하면 그 숫자의 제곱\n",
    "def pow(a, b = 2):\n",
    "    k = 1\n",
    "    k = a ** b\n",
    "    return k\n",
    "\n",
    "print(pow(5))\n",
    "print(pow(3,2))\n",
    "\n",
    "print(1,2,3,4,'a','b',end = '', sep = ' ')"
   ]
  },
  {
   "cell_type": "code",
   "execution_count": 50,
   "metadata": {},
   "outputs": [
    {
     "name": "stdout",
     "output_type": "stream",
     "text": [
      "1\n"
     ]
    }
   ],
   "source": [
    "# 변수의 범위 159p 지역변수, 전역변수, global\n",
    "a = 0\n",
    "def vartest(b):\n",
    "    global a\n",
    "    c = 0\n",
    "    a = 1\n",
    "    \n",
    "vartest(2)\n",
    "print(a)"
   ]
  }
 ],
 "metadata": {
  "kernelspec": {
   "display_name": "Python 3",
   "language": "python",
   "name": "python3"
  },
  "language_info": {
   "codemirror_mode": {
    "name": "ipython",
    "version": 3
   },
   "file_extension": ".py",
   "mimetype": "text/x-python",
   "name": "python",
   "nbconvert_exporter": "python",
   "pygments_lexer": "ipython3",
   "version": "3.8.5"
  }
 },
 "nbformat": 4,
 "nbformat_minor": 4
}
