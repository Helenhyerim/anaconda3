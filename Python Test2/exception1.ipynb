{
 "cells": [
  {
   "cell_type": "markdown",
   "metadata": {},
   "source": [
    "<h1>예외처리</h1>"
   ]
  },
  {
   "cell_type": "code",
   "execution_count": 13,
   "metadata": {
    "scrolled": true
   },
   "outputs": [
    {
     "name": "stdout",
     "output_type": "stream",
     "text": [
      "정수입력:0\n",
      "예외발생\n",
      "예외여부무관 무조건 실행\n",
      "try 구문과 무관한 부분\n"
     ]
    }
   ],
   "source": [
    "# 예외의 종류 292p~\n",
    "try:\n",
    "    n = int(input('정수입력:'))\n",
    "    print(10 / n)\n",
    "\n",
    "    li = [1,2,3]\n",
    "    print(li[n])\n",
    "except:\n",
    "    print('예외발생')\n",
    "    # 프로그램 종료 sys.exit(0)\n",
    "else:\n",
    "    print('예외발생하지않음')\n",
    "finally:\n",
    "    print('예외여부무관 무조건 실행')\n",
    "    \n",
    "print('try 구문과 무관한 부분')"
   ]
  },
  {
   "cell_type": "code",
   "execution_count": null,
   "metadata": {
    "scrolled": true
   },
   "outputs": [],
   "source": [
    "# 정수 2개를 입력받음\n",
    "try:\n",
    "    a = input('정수입력')\n",
    "    b = input('정수입력')\n",
    "    c = int(a)\n",
    "    d = int(b)\n",
    "    e = c / d\n",
    "    print(e)\n",
    "except ValueError:\n",
    "    print('숫자 형식이 잘못됨')\n",
    "except ZeroDivisionError:\n",
    "    print('0으로 나눌 수 없음')\n",
    "except NameError:\n",
    "    print('없는 이름입니다')\n",
    "except IndexError:\n",
    "    print('첨자가 범위를 벗어남')\n",
    "except TypeError:\n",
    "    print('타입이 맞지 않습니다')\n",
    "except BaseException:\n",
    "    print('그 밖의 예외')"
   ]
  },
  {
   "cell_type": "code",
   "execution_count": null,
   "metadata": {},
   "outputs": [],
   "source": [
    "## 정수 5개를 입력 받아 합계 구하기\n",
    "\n",
    "s = 0\n",
    "cnt = 0\n",
    "\n",
    "while cnt < 5:\n",
    "    try:\n",
    "        num = int(input('정수입력'))\n",
    "        s += num\n",
    "        cnt += 1\n",
    "    except ValueError:\n",
    "        print('숫자 형식이 아닙니다')\n",
    "        \n",
    "print('합계:', s)"
   ]
  },
  {
   "cell_type": "code",
   "execution_count": 3,
   "metadata": {},
   "outputs": [
    {
     "name": "stdout",
     "output_type": "stream",
     "text": [
      "1~10범위의 정수 입력11\n",
      "입력 오류, 다시 입력하세요\n",
      "1~10범위의 정수 입력a\n",
      "입력 오류, 다시 입력하세요\n",
      "1~10범위의 정수 입력0\n",
      "입력 오류, 다시 입력하세요\n",
      "1~10범위의 정수 입력1\n"
     ]
    }
   ],
   "source": [
    "# 1 ~ 10 범위의 정수 하나를 입력받는다\n",
    "while True:\n",
    "    try:\n",
    "        n = int(input('1~10범위의 정수 입력'))\n",
    "        if n < 1 or n > 10:\n",
    "            raise ValueError\n",
    "    except ValueError:\n",
    "        print('입력 오류, 다시 입력하세요')\n",
    "        continue\n",
    "    break\n",
    "\n",
    "    "
   ]
  },
  {
   "cell_type": "code",
   "execution_count": 7,
   "metadata": {},
   "outputs": [
    {
     "name": "stdout",
     "output_type": "stream",
     "text": [
      "정수 입력2\n",
      "정수 입력3\n",
      "정수 입력2\n",
      "정수 입력3\n",
      "정수 입력ㅁ\n",
      "합계 10\n"
     ]
    }
   ],
   "source": [
    "# 반복문으로 정수를 입력받아 합계 구하기 \n",
    "# 정수가 아닌 게 들어오면(예외) 반복종료,합계구하기\n",
    "sum = 0\n",
    "while True:\n",
    "    try:\n",
    "        n = int(input('정수 입력'))\n",
    "    except ValueError:\n",
    "        break\n",
    "    sum += n\n",
    "print('합계',sum)"
   ]
  },
  {
   "cell_type": "code",
   "execution_count": 17,
   "metadata": {},
   "outputs": [
    {
     "name": "stdout",
     "output_type": "stream",
     "text": [
      "리스트 내에 없습니다\n",
      "리스트 내에 있습니다\n"
     ]
    }
   ],
   "source": [
    "n = [3,4,2,9,10]\n",
    "\n",
    "#print(2 in n)\n",
    "#print(n[0])\n",
    "#print(n.index(5))\n",
    "\n",
    "if 100 in n:\n",
    "    print('리스트 내에 있습니다')\n",
    "else :\n",
    "    print('리스트 내에 없습니다')\n",
    "    \n",
    "    \n",
    "try:\n",
    "    n.index(2)\n",
    "except:\n",
    "    print('리스트 내에 없습니다')\n",
    "else:\n",
    "    print('리스트 내에 있습니다')\n",
    "    "
   ]
  },
  {
   "cell_type": "code",
   "execution_count": null,
   "metadata": {},
   "outputs": [],
   "source": []
  },
  {
   "cell_type": "code",
   "execution_count": null,
   "metadata": {},
   "outputs": [],
   "source": []
  },
  {
   "cell_type": "code",
   "execution_count": null,
   "metadata": {},
   "outputs": [],
   "source": []
  }
 ],
 "metadata": {
  "kernelspec": {
   "display_name": "Python 3",
   "language": "python",
   "name": "python3"
  },
  "language_info": {
   "codemirror_mode": {
    "name": "ipython",
    "version": 3
   },
   "file_extension": ".py",
   "mimetype": "text/x-python",
   "name": "python",
   "nbconvert_exporter": "python",
   "pygments_lexer": "ipython3",
   "version": "3.8.5"
  }
 },
 "nbformat": 4,
 "nbformat_minor": 4
}
