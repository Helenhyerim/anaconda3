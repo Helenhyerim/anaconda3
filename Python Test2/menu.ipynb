{
 "cells": [
  {
   "cell_type": "markdown",
   "metadata": {},
   "source": [
    "<h2>메뉴</h2>\n",
    "<pre>\n",
    "[일정관리 프로그램]\n",
    "\n",
    "1. 전체 일정 보기\n",
    "2. 일정 등록\n",
    "3. 일정 검색\n",
    "4. 일정 삭제\n",
    "0. 종료\n",
    "번호선택 > 1\n",
    "</pre>"
   ]
  },
  {
   "cell_type": "code",
   "execution_count": null,
   "metadata": {},
   "outputs": [
    {
     "name": "stdout",
     "output_type": "stream",
     "text": [
      "\n",
      "1\n",
      "2\n",
      "3\n",
      "4\n",
      "0\n",
      "번호 선택4\n",
      "5번 선택\n",
      "\n",
      "1\n",
      "2\n",
      "3\n",
      "4\n",
      "0\n"
     ]
    }
   ],
   "source": [
    "\n",
    "while True:\n",
    "    print()\n",
    "    print('1')\n",
    "    print('2')\n",
    "    print('3')\n",
    "    print('4')\n",
    "    print('0')\n",
    "    num = int(input('번호 선택'))\n",
    "    \n",
    "    if num == 0:\n",
    "        break\n",
    "    elif num == 1:\n",
    "        print('1번 선택')\n",
    "    elif num == 2:\n",
    "        print('2번 선택')\n",
    "    elif num == 3:\n",
    "        print('3번 선택')\n",
    "    elif num == 4:\n",
    "        print('5번 선택')\n",
    "    else:\n",
    "        print('없는 번호')\n",
    "    \n",
    "    "
   ]
  },
  {
   "cell_type": "code",
   "execution_count": null,
   "metadata": {},
   "outputs": [],
   "source": []
  },
  {
   "cell_type": "code",
   "execution_count": null,
   "metadata": {},
   "outputs": [],
   "source": []
  }
 ],
 "metadata": {
  "kernelspec": {
   "display_name": "Python 3",
   "language": "python",
   "name": "python3"
  },
  "language_info": {
   "codemirror_mode": {
    "name": "ipython",
    "version": 3
   },
   "file_extension": ".py",
   "mimetype": "text/x-python",
   "name": "python",
   "nbconvert_exporter": "python",
   "pygments_lexer": "ipython3",
   "version": "3.8.5"
  }
 },
 "nbformat": 4,
 "nbformat_minor": 4
}
