{
 "cells": [
  {
   "cell_type": "markdown",
   "metadata": {},
   "source": [
    "<h2>문자열</h2>"
   ]
  },
  {
   "cell_type": "code",
   "execution_count": 8,
   "metadata": {
    "scrolled": true
   },
   "outputs": [
    {
     "name": "stdout",
     "output_type": "stream",
     "text": [
      "가나다라 abc 1234 aaaa\n",
      "문자열 내용중에 있는 \", ', \\ 등의 특수문자\n",
      "긴문자열\n",
      "aaaa\n",
      "ㅁㅁㅁㅁ\n",
      "65\n",
      "c\n",
      "a\n",
      "다\n",
      "c13\n",
      "d1\n",
      "가 나 다\n",
      "가나다\n",
      "가나다\n",
      "가나다\n",
      "10\n"
     ]
    }
   ],
   "source": [
    "# 문자열 사용\n",
    "print('가나다라', 'abc', '1234', \"aaaa\")\n",
    "print('문자열 내용중에 있는 \\\", \\', \\\\ 등의 특수문자')\n",
    "\n",
    "s = '''긴문자열\n",
    "aaaa\n",
    "ㅁㅁㅁㅁ'''\n",
    "print(s)\n",
    "\n",
    "# 유니코드\n",
    "print(ord('A'))\n",
    "print(chr(99))\n",
    "\n",
    "s = 'abcd123가나다'\n",
    "\n",
    "print(s[0])\n",
    "print(s[-1])\n",
    "#print(s[10])\n",
    "print(s[2:7:2])\n",
    "print(s[3:5])\n",
    "\n",
    "#s에서 '가나다'부분만 출력\n",
    "print(s[7], s[8], s[9])\n",
    "print(s[7:10])\n",
    "print(s[7:])\n",
    "print(s[-3:])\n",
    "\n",
    "print(len(s))"
   ]
  },
  {
   "cell_type": "code",
   "execution_count": 34,
   "metadata": {},
   "outputs": [
    {
     "name": "stdout",
     "output_type": "stream",
     "text": [
      "7\n",
      "2\n",
      "2\n",
      "-1\n",
      "True\n",
      "False\n",
      "True\n",
      "False\n",
      "False\n",
      "True\n",
      "True\n",
      "ABC 123\n",
      "대문자로만 입력DF\n",
      "df\n",
      "    good day    a\n"
     ]
    }
   ],
   "source": [
    "s = 'abcdefg'\n",
    "print(len(s))\n",
    "print(s.find('c'))\n",
    "print(s.index('c'))\n",
    "print(s.find('p'))\n",
    "#print(s.index('p'))\n",
    "\n",
    "print('a' in s) #T\n",
    "print('a' not in s) #F\n",
    "\n",
    "print(s.startswith('abc')) #T\n",
    "print(s.endswith('abc')) #F\n",
    "\n",
    "#180p\n",
    "s = 'abc 123'\n",
    "print(s.isalpha()) #F\n",
    "print(s[0].isalpha()) #T\n",
    "print(s[-1].isdecimal()) #T\n",
    "\n",
    "print(s.upper())\n",
    "\n",
    "# 대문자, 소문자\n",
    "a =input('대문자로만 입력')\n",
    "print(a.lower())\n",
    "\n"
   ]
  },
  {
   "cell_type": "code",
   "execution_count": 53,
   "metadata": {},
   "outputs": [
    {
     "name": "stdout",
     "output_type": "stream",
     "text": [
      "a    good day    \n",
      "a good day    \n",
      "a     good day\n",
      "a good day\n",
      "['붕어빵', '잉어빵', '호빵', '찐빵']\n",
      "['붕어', ' 잉어', ' 호', ' 찐', '']\n",
      "붕어빵 좋아 잉어빵 좋아 호빵 좋아 찐빵 좋아 "
     ]
    }
   ],
   "source": [
    "# 띄어쓰기\n",
    "a = '    good day    '\n",
    "print('a' + a )\n",
    "print('a ' + a.lstrip())\n",
    "print('a ' + a.rstrip())\n",
    "print('a ' + a.strip())\n",
    "\n",
    "# 분할\n",
    "winter = '붕어빵 잉어빵 호빵 찐빵'\n",
    "print(winter.split())\n",
    "print(winter.split('빵'))\n",
    "\n",
    "a = winter.split()\n",
    "for i in a:\n",
    "    print(i, '좋아', end=' ')\n",
    "       "
   ]
  },
  {
   "cell_type": "code",
   "execution_count": 60,
   "metadata": {},
   "outputs": [
    {
     "name": "stdout",
     "output_type": "stream",
     "text": [
      "강나루 건너서\n",
      " 밀밭 길을\n",
      "\n",
      " 구름에 달 가듯이\n",
      " 가는 \n",
      "나그네\n",
      " 길은 외줄기\n",
      " 남도 삼백리\n",
      "\n",
      " 술 익는 마을마다\n",
      " 타는 저녁놀\n"
     ]
    }
   ],
   "source": [
    "traveler = \"\"\"강나루 건너서\\n 밀밭 길을\\n\\n 구름에 달 가듯이\\n 가는 \n",
    "나그네\\n 길은 외줄기\\n 남도 삼백리\\n\\n 술 익는 마을마다\\n 타는 저녁놀\\n\"\"\"\n",
    "poet = traveler.splitlines()\n",
    "for line in poet:\n",
    "    print(line)"
   ]
  }
 ],
 "metadata": {
  "kernelspec": {
   "display_name": "Python 3",
   "language": "python",
   "name": "python3"
  },
  "language_info": {
   "codemirror_mode": {
    "name": "ipython",
    "version": 3
   },
   "file_extension": ".py",
   "mimetype": "text/x-python",
   "name": "python",
   "nbconvert_exporter": "python",
   "pygments_lexer": "ipython3",
   "version": "3.8.5"
  }
 },
 "nbformat": 4,
 "nbformat_minor": 4
}
