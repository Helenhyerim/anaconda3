{
 "cells": [
  {
   "cell_type": "markdown",
   "metadata": {},
   "source": [
    "<h2>이중 리스트</h2>"
   ]
  },
  {
   "cell_type": "code",
   "execution_count": 9,
   "metadata": {},
   "outputs": [
    {
     "name": "stdout",
     "output_type": "stream",
     "text": [
      "[[1, 2, 3, 4], [5, 6, 7, 8], [9, 10, 11, 12]]\n",
      "[1, 2, 3, 4]\n",
      "1\n",
      "<class 'list'>\n",
      "<class 'list'>\n",
      "<class 'int'>\n",
      "1\n",
      "2\n",
      "3\n",
      "4\n",
      "5\n",
      "6\n",
      "7\n",
      "8\n",
      "9\n",
      "10\n",
      "11\n",
      "12\n",
      "1\n",
      "2\n",
      "3\n",
      "4\n",
      "5\n",
      "6\n",
      "7\n",
      "8\n",
      "9\n",
      "10\n",
      "11\n",
      "12\n"
     ]
    }
   ],
   "source": [
    "li1 = [[1,2,3,4],[5,6,7,8],[9,10,11,12]]\n",
    "\n",
    "print(li1)\n",
    "print(li1[0])\n",
    "print(li1[0][0])\n",
    "print(type(li1))\n",
    "print(type(li1[0]))\n",
    "print(type(li1[0][0]))\n",
    "\n",
    "for i in range(len(li1)):\n",
    "    for j in range(len(li1[i])):\n",
    "        print(li1[i][j])\n",
    "        \n",
    "for i in li1:\n",
    "    for j in i:\n",
    "        print(j)"
   ]
  },
  {
   "cell_type": "code",
   "execution_count": 12,
   "metadata": {},
   "outputs": [
    {
     "name": "stdout",
     "output_type": "stream",
     "text": [
      "1\n",
      "2\n",
      "3\n",
      "4\n",
      "5\n",
      "6\n",
      "7\n",
      "8\n",
      "9\n"
     ]
    }
   ],
   "source": [
    "li2 = [[1,2,3], [4,5], [6,7,8,9]]\n",
    "\n",
    "for i in range(len(li2)):\n",
    "    for j in range(len(li2[i])):\n",
    "        print(li2[i][j])"
   ]
  },
  {
   "cell_type": "code",
   "execution_count": 36,
   "metadata": {},
   "outputs": [
    {
     "name": "stdout",
     "output_type": "stream",
     "text": [
      "[[], [], []]\n",
      "[[1, 2, 3], [4, 5], [6, 7, 8, 9]]\n"
     ]
    }
   ],
   "source": [
    "li3 = []\n",
    "\n",
    "li3.append([])\n",
    "li3.append([])\n",
    "li3.append([])\n",
    "\n",
    "print(li3)\n",
    "\n",
    "li3[0].append(1)\n",
    "li3[0].append(2)\n",
    "li3[0].append(3)\n",
    "li3[1].append(4)\n",
    "li3[1].append(5)\n",
    "li3[2].append(6)\n",
    "li3[2].append(7)\n",
    "li3[2].append(8)\n",
    "li3[2].append(9)\n",
    "\n",
    "print(li3)"
   ]
  },
  {
   "cell_type": "markdown",
   "metadata": {},
   "source": [
    "입력 : 학생이름, 국영수 3과목 점수\n",
    "학생이름에서 그냥 엔터치면 종료\n",
    "\n",
    "---------------------\n",
    "[1]홍길동 100 100 100 300 100"
   ]
  },
  {
   "cell_type": "code",
   "execution_count": 2,
   "metadata": {},
   "outputs": [
    {
     "name": "stdout",
     "output_type": "stream",
     "text": [
      "이름:qwe\n",
      "국어:30\n",
      "영어:20\n",
      "수학:05\n",
      "이름:dd\n",
      "국어:09\n",
      "영어:90\n",
      "수학:90\n",
      "이름:\n",
      "qwe\t30\t20\t5\t55\t18.333333333333332\t\n",
      "dd\t9\t90\t90\t189\t63.0\t\n"
     ]
    }
   ],
   "source": [
    "st = []\n",
    "\n",
    "n = 0\n",
    "while True:\n",
    "    name = input('이름:')\n",
    "    if name == '': break\n",
    "            \n",
    "    st.append([])\n",
    "    st[n].append(name)\n",
    "    st[n].append(int(input('국어:')))\n",
    "    st[n].append(int(input('영어:')))\n",
    "    st[n].append(int(input('수학:')))\n",
    "    n += 1\n",
    "\n",
    "# 성적계산\n",
    "for n in st:\n",
    "    tot = 0\n",
    "    for col in n:\n",
    "        if type(col) == int:\n",
    "            tot += col\n",
    "    n.append(tot)\n",
    "    n.append(tot/3)\n",
    "\n",
    "# 결과출력\n",
    "for n in st:\n",
    "    for col in n:\n",
    "        print(col, end = '\\t')\n",
    "    print()\n",
    "              \n"
   ]
  },
  {
   "cell_type": "code",
   "execution_count": null,
   "metadata": {},
   "outputs": [],
   "source": []
  }
 ],
 "metadata": {
  "kernelspec": {
   "display_name": "Python 3",
   "language": "python",
   "name": "python3"
  },
  "language_info": {
   "codemirror_mode": {
    "name": "ipython",
    "version": 3
   },
   "file_extension": ".py",
   "mimetype": "text/x-python",
   "name": "python",
   "nbconvert_exporter": "python",
   "pygments_lexer": "ipython3",
   "version": "3.8.5"
  }
 },
 "nbformat": 4,
 "nbformat_minor": 4
}
