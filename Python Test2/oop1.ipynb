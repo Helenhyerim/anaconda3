{
 "cells": [
  {
   "cell_type": "markdown",
   "metadata": {},
   "source": [
    "클래스의 정의와 객체 생성"
   ]
  },
  {
   "cell_type": "code",
   "execution_count": 21,
   "metadata": {},
   "outputs": [
    {
     "name": "stdout",
     "output_type": "stream",
     "text": [
      "상품명은 키보드 입니다\n",
      "상품명은 모니터 입니다\n",
      "10000\n",
      "코드:A001상품명:키보드\n",
      "코드:B001상품명:모니터\n",
      "코드:A001상품명:키보드\n"
     ]
    }
   ],
   "source": [
    "\n",
    "# A001 키보드 10000원\n",
    "# 클래스의 정의\n",
    "class product : \n",
    "    # 생성자\n",
    "    def __init__(self, c, n, p):\n",
    "        self.code = c\n",
    "        self.name = n\n",
    "        self.price = p\n",
    "        \n",
    "    def printProduct(self):\n",
    "        print('상품명은', self.name, '입니다')\n",
    "        \n",
    "    def __str__(self):\n",
    "        return '코드:' + self.code + '상품명:' + self.name\n",
    "        \n",
    "# 객체 생성\n",
    "p = product('A001', '키보드', 10000)\n",
    "p2 = product('B001', '모니터', 50000)\n",
    "\n",
    "p.printProduct()\n",
    "p2.printProduct()\n",
    "\n",
    "print(p.price)\n",
    "print(p)\n",
    "print(p2)\n",
    "\n",
    "s = str(p)\n",
    "print(s)\n",
    "\n",
    "# Product 객체 여러개를 파일에 저장\n",
    "file = open('product', 'wb')\n",
    "ob = pickle.dump(p, file)\n",
    "ob = pickle.dump(p2, file)\n",
    "\n",
    "file.close()"
   ]
  },
  {
   "cell_type": "code",
   "execution_count": null,
   "metadata": {},
   "outputs": [],
   "source": []
  },
  {
   "cell_type": "code",
   "execution_count": 15,
   "metadata": {},
   "outputs": [],
   "source": [
    "# 객체 저장된 파일 읽기\n",
    "import pickle\n",
    "import os.path\n",
    "\n",
    "if os.path.isfile('product'):\n",
    "    file = open('product', 'rb')\n",
    "\n",
    "    try:\n",
    "        while True:\n",
    "            ob = pickle.load(file)\n",
    "            print(ob)\n",
    "    except:\n",
    "        file.close()\n",
    "else:\n",
    "    print('파일이 없습니다.')\n",
    "\n"
   ]
  },
  {
   "cell_type": "code",
   "execution_count": null,
   "metadata": {},
   "outputs": [],
   "source": []
  }
 ],
 "metadata": {
  "kernelspec": {
   "display_name": "Python 3",
   "language": "python",
   "name": "python3"
  },
  "language_info": {
   "codemirror_mode": {
    "name": "ipython",
    "version": 3
   },
   "file_extension": ".py",
   "mimetype": "text/x-python",
   "name": "python",
   "nbconvert_exporter": "python",
   "pygments_lexer": "ipython3",
   "version": "3.8.5"
  }
 },
 "nbformat": 4,
 "nbformat_minor": 4
}
