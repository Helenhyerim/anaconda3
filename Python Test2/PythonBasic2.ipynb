{
 "cells": [
  {
   "cell_type": "markdown",
   "metadata": {},
   "source": [
    "<h1>파이썬의 자료형, 입력, 연산"
   ]
  },
  {
   "cell_type": "code",
   "execution_count": 3,
   "metadata": {},
   "outputs": [
    {
     "name": "stdout",
     "output_type": "stream",
     "text": [
      "정수 입력3\n",
      "실수 입력4\n",
      "3 4 7.0\n"
     ]
    }
   ],
   "source": [
    "#숫자 입력받아서 연산하여 출력\n",
    "a = input('정수 입력')\n",
    "b = input('실수 입력')\n",
    "c = int(a) + float(b) #input 함수로 받은 정보는 전부 문자취급\n",
    "print(a, b, c)        #타입 변환(int, float, str) 86P\n"
   ]
  },
  {
   "cell_type": "code",
   "execution_count": 4,
   "metadata": {},
   "outputs": [
    {
     "name": "stdout",
     "output_type": "stream",
     "text": [
      "정수입력4\n",
      "정수입력4\n",
      "4 + 4 = 8\n",
      "False\n",
      "True\n",
      "True\n",
      "True\n",
      "True\n"
     ]
    }
   ],
   "source": [
    "# 숫자 입력받아서 연산하여 출력_2\n",
    "a = int(input('정수입력'))\n",
    "b = int(input('정수입력'))\n",
    "\n",
    "#산술연산자 (+ - * / 거듭제곱 ** 나머지% 정수나누기//) 82p\n",
    "c = a + b\n",
    "print(a,'+',b,'=',c)\n",
    "\n",
    "#c = a ** b\n",
    "#print(c)\n",
    "\n",
    "#비교, 논리 연산자 92p (진위형 - True, False)\n",
    "c = a > b   # >, <, >=, <= , ==, !=\n",
    "print(c)\n",
    "\n",
    "c = a > 0 and b > 0 # 둘 다 true 여야 true 출력\n",
    "print(c)\n",
    "\n",
    "c = a > 0 or b > 0\n",
    "print(c)\n",
    "\n",
    "c = a >= 0 and a <= 10\n",
    "print(c)\n",
    "\n",
    "c = 0 <= a <= 10   #이게 되다니 특이하네~!\n",
    "print(c)\n",
    "\n",
    "\n"
   ]
  },
  {
   "cell_type": "code",
   "execution_count": 2,
   "metadata": {},
   "outputs": [
    {
     "name": "stdout",
     "output_type": "stream",
     "text": [
      "127\n",
      "0b1111111\n",
      "0o177\n",
      "0x7f\n",
      "3.141592\n",
      "1.5e-05\n",
      "이 책의 \t이름은 \"파이썬\"입니다. \n",
      "파일은 c:\\abc\u0007.txt로 저장\n",
      "아주 긴 문자열\n",
      "중간에 줄도 바꾸고\n",
      "\n"
     ]
    }
   ],
   "source": [
    "# 정수의 입력과 출력(2,8,10,16진법) 62p\n",
    "x = 0b1111111\n",
    "print(x)\n",
    "print(bin(x))\n",
    "print(oct(x))\n",
    "print(hex(x))\n",
    "\n",
    "#실수의 입력과 출력\n",
    "x = 3.141592\n",
    "print(x)\n",
    "x = 1e10  #1 곱하기 10의 10승\n",
    "x = 1.5e-5\n",
    "print(x)\n",
    "\n",
    "#문자열 67p, 69p\n",
    "x = '이 책의 \\t이름은 \\\"파이썬\\\"입니다. \\n파일은 c:\\\\abc\\a.txt로 저장'\n",
    "print(x)\n",
    "x = \"\"\"아주 긴 문자열\n",
    "중간에 줄도 바꾸고\n",
    "\"\"\"\n",
    "print(x)"
   ]
  },
  {
   "cell_type": "code",
   "execution_count": null,
   "metadata": {},
   "outputs": [],
   "source": []
  }
 ],
 "metadata": {
  "kernelspec": {
   "display_name": "Python 3",
   "language": "python",
   "name": "python3"
  },
  "language_info": {
   "codemirror_mode": {
    "name": "ipython",
    "version": 3
   },
   "file_extension": ".py",
   "mimetype": "text/x-python",
   "name": "python",
   "nbconvert_exporter": "python",
   "pygments_lexer": "ipython3",
   "version": "3.8.5"
  }
 },
 "nbformat": 4,
 "nbformat_minor": 4
}
