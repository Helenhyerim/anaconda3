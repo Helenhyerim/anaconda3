{
 "cells": [
  {
   "cell_type": "markdown",
   "metadata": {},
   "source": [
    "<h2>구구단</h2>"
   ]
  },
  {
   "cell_type": "code",
   "execution_count": 2,
   "metadata": {},
   "outputs": [
    {
     "name": "stdout",
     "output_type": "stream",
     "text": [
      "3 * 1 = 3\n",
      "3 * 2 = 6\n",
      "3 * 3 = 9\n",
      "3 * 4 = 12\n",
      "3 * 5 = 15\n",
      "3 * 6 = 18\n",
      "3 * 7 = 21\n",
      "3 * 8 = 24\n",
      "3 * 9 = 27\n",
      "\n"
     ]
    }
   ],
   "source": [
    "# 구구단 1\n",
    "dan = 3\n",
    "for num in range(1, 10):\n",
    "    print(dan, '*', num, '=', dan *num)\n",
    "print()"
   ]
  },
  {
   "cell_type": "code",
   "execution_count": 1,
   "metadata": {},
   "outputs": [
    {
     "name": "stdout",
     "output_type": "stream",
     "text": [
      "1*1=1\t1*2=2\t1*3=3\t1*4=4\t1*5=5\t1*6=6\t1*7=7\t1*8=8\t1*9=9\t\n",
      "2*1=2\t2*2=4\t2*3=6\t2*4=8\t2*5=10\t2*6=12\t2*7=14\t2*8=16\t2*9=18\t\n",
      "3*1=3\t3*2=6\t3*3=9\t3*4=12\t3*5=15\t3*6=18\t3*7=21\t3*8=24\t3*9=27\t\n",
      "4*1=4\t4*2=8\t4*3=12\t4*4=16\t4*5=20\t4*6=24\t4*7=28\t4*8=32\t4*9=36\t\n",
      "5*1=5\t5*2=10\t5*3=15\t5*4=20\t5*5=25\t5*6=30\t5*7=35\t5*8=40\t5*9=45\t\n",
      "6*1=6\t6*2=12\t6*3=18\t6*4=24\t6*5=30\t6*6=36\t6*7=42\t6*8=48\t6*9=54\t\n",
      "7*1=7\t7*2=14\t7*3=21\t7*4=28\t7*5=35\t7*6=42\t7*7=49\t7*8=56\t7*9=63\t\n",
      "8*1=8\t8*2=16\t8*3=24\t8*4=32\t8*5=40\t8*6=48\t8*7=56\t8*8=64\t8*9=72\t\n",
      "9*1=9\t9*2=18\t9*3=27\t9*4=36\t9*5=45\t9*6=54\t9*7=63\t9*8=72\t9*9=81\t\n"
     ]
    }
   ],
   "source": [
    "# 구구단 2\n",
    "for dan in range(1, 10):\n",
    "    for num in range(1, 10):\n",
    "        print(dan, '*', num, '=', dan *num, sep='', end='\\t')\n",
    "    print()\n",
    "        "
   ]
  },
  {
   "cell_type": "code",
   "execution_count": 2,
   "metadata": {},
   "outputs": [
    {
     "name": "stdout",
     "output_type": "stream",
     "text": [
      "1*1=1\t1*2=2\t1*3=3\t1*4=4\t1*5=5\t1*6=6\t1*7=7\t1*8=8\t1*9=9\t\n",
      "2*1=2\t2*2=4\t2*3=6\t2*4=8\t2*5=10\t2*6=12\t2*7=14\t2*8=16\t2*9=18\t\n",
      "3*1=3\t3*2=6\t3*3=9\t3*4=12\t3*5=15\t3*6=18\t3*7=21\t3*8=24\t3*9=27\t\n",
      "4*1=4\t4*2=8\t4*3=12\t4*4=16\t4*5=20\t4*6=24\t4*7=28\t4*8=32\t4*9=36\t\n",
      "5*1=5\t5*2=10\t5*3=15\t5*4=20\t5*5=25\t5*6=30\t5*7=35\t5*8=40\t5*9=45\t\n",
      "6*1=6\t6*2=12\t6*3=18\t6*4=24\t6*5=30\t6*6=36\t6*7=42\t6*8=48\t6*9=54\t\n",
      "7*1=7\t7*2=14\t7*3=21\t7*4=28\t7*5=35\t7*6=42\t7*7=49\t7*8=56\t7*9=63\t\n",
      "8*1=8\t8*2=16\t8*3=24\t8*4=32\t8*5=40\t8*6=48\t8*7=56\t8*8=64\t8*9=72\t\n",
      "9*1=9\t9*2=18\t9*3=27\t9*4=36\t9*5=45\t9*6=54\t9*7=63\t9*8=72\t9*9=81\t\n"
     ]
    }
   ],
   "source": [
    "#구구단 3\n",
    "for dan in range(1, 10):\n",
    "    for num in range(1, 10):\n",
    "        print(dan, '*', num, '=', dan *num, sep='', end='\\t')\n",
    "    print()"
   ]
  },
  {
   "cell_type": "code",
   "execution_count": 6,
   "metadata": {},
   "outputs": [
    {
     "name": "stdout",
     "output_type": "stream",
     "text": [
      "1 * 1 = 1\t1 * 2 = 2\t1 * 3 = 3\t\n",
      "2 * 1 = 2\t2 * 2 = 4\t2 * 3 = 6\t\n",
      "3 * 1 = 3\t3 * 2 = 6\t3 * 3 = 9\t\n",
      "4 * 1 = 4\t4 * 2 = 8\t4 * 3 = 12\t\n",
      "5 * 1 = 5\t5 * 2 = 10\t5 * 3 = 15\t\n",
      "6 * 1 = 6\t6 * 2 = 12\t6 * 3 = 18\t\n",
      "7 * 1 = 7\t7 * 2 = 14\t7 * 3 = 21\t\n",
      "8 * 1 = 8\t8 * 2 = 16\t8 * 3 = 24\t\n",
      "9 * 1 = 9\t9 * 2 = 18\t9 * 3 = 27\t\n",
      "\n",
      "1 * 4 = 4\t1 * 5 = 5\t1 * 6 = 6\t\n",
      "2 * 4 = 8\t2 * 5 = 10\t2 * 6 = 12\t\n",
      "3 * 4 = 12\t3 * 5 = 15\t3 * 6 = 18\t\n",
      "4 * 4 = 16\t4 * 5 = 20\t4 * 6 = 24\t\n",
      "5 * 4 = 20\t5 * 5 = 25\t5 * 6 = 30\t\n",
      "6 * 4 = 24\t6 * 5 = 30\t6 * 6 = 36\t\n",
      "7 * 4 = 28\t7 * 5 = 35\t7 * 6 = 42\t\n",
      "8 * 4 = 32\t8 * 5 = 40\t8 * 6 = 48\t\n",
      "9 * 4 = 36\t9 * 5 = 45\t9 * 6 = 54\t\n",
      "\n",
      "1 * 7 = 7\t1 * 8 = 8\t1 * 9 = 9\t\n",
      "2 * 7 = 14\t2 * 8 = 16\t2 * 9 = 18\t\n",
      "3 * 7 = 21\t3 * 8 = 24\t3 * 9 = 27\t\n",
      "4 * 7 = 28\t4 * 8 = 32\t4 * 9 = 36\t\n",
      "5 * 7 = 35\t5 * 8 = 40\t5 * 9 = 45\t\n",
      "6 * 7 = 42\t6 * 8 = 48\t6 * 9 = 54\t\n",
      "7 * 7 = 49\t7 * 8 = 56\t7 * 9 = 63\t\n",
      "8 * 7 = 56\t8 * 8 = 64\t8 * 9 = 72\t\n",
      "9 * 7 = 63\t9 * 8 = 72\t9 * 9 = 81\t\n",
      "\n"
     ]
    }
   ],
   "source": [
    "# 구구단 4\n",
    "for dan in range(1, 8, 3):\n",
    "    for num in range(1, 10):\n",
    "        for cal in range(dan, dan+3):\n",
    "            print(num, '*', cal, '=', num*cal, sep=' ', end='\\t')\n",
    "        print()\n",
    "    print()"
   ]
  },
  {
   "cell_type": "markdown",
   "metadata": {},
   "source": [
    "<h2>소수구하기<j2>\n",
    "정수입력\n",
    "2~ 그 수까지 모든 소수를 구해 한줄에 5개씩 출력\n",
    "   \n",
    "input(), 문자열 -> 정수변환\n",
    "2중 for 문\n",
    "나머지 연산자, 개수, 카운트, 제곱근 "
   ]
  },
  {
   "cell_type": "code",
   "execution_count": 59,
   "metadata": {},
   "outputs": [
    {
     "name": "stdout",
     "output_type": "stream",
     "text": [
      "정수 입력400\n",
      "2 3 5 7 11 \n",
      "13 17 19 23 29 \n",
      "31 37 41 43 47 \n",
      "53 59 61 67 71 \n",
      "73 79 83 89 97 \n",
      "101 103 107 109 113 \n",
      "127 131 137 139 149 \n",
      "151 157 163 167 173 \n",
      "179 181 191 193 197 \n",
      "199 211 223 227 229 \n",
      "233 239 241 251 257 \n",
      "263 269 271 277 281 \n",
      "283 293 307 311 313 \n",
      "317 331 337 347 349 \n",
      "353 359 367 373 379 \n",
      "383 389 397 Wall time: 1.42 s\n"
     ]
    }
   ],
   "source": [
    "%%time\n",
    "num = int(input('정수 입력'))\n",
    "cnt = 0\n",
    "\n",
    "for i in range (2, num+1):\n",
    "    check = True\n",
    "    for j in range (2, int(i**(1/2) + 1)):\n",
    "        if i%j == 0: \n",
    "            check = False\n",
    "            break\n",
    "            \n",
    "    if check :\n",
    "        print(i, end = ' ')\n",
    "        cnt += 1\n",
    "        if cnt % 5 == 0:\n",
    "            print()\n",
    "       \n",
    "    \n"
   ]
  }
 ],
 "metadata": {
  "kernelspec": {
   "display_name": "Python 3",
   "language": "python",
   "name": "python3"
  },
  "language_info": {
   "codemirror_mode": {
    "name": "ipython",
    "version": 3
   },
   "file_extension": ".py",
   "mimetype": "text/x-python",
   "name": "python",
   "nbconvert_exporter": "python",
   "pygments_lexer": "ipython3",
   "version": "3.8.5"
  }
 },
 "nbformat": 4,
 "nbformat_minor": 4
}
