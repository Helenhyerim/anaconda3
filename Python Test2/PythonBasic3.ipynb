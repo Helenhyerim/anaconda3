{
 "cells": [
  {
   "cell_type": "markdown",
   "metadata": {},
   "source": [
    "<h1>정수형, 연산자를 이용한 예제</h1>\n",
    "국어, 영어, 수학 점수 입력(0-100점 사이의 정수)\n",
    "평균 60이상이면서 과락이 없어야 합격\n",
    "과락: 한 과목이 40점 미만\n"
   ]
  },
  {
   "cell_type": "code",
   "execution_count": 5,
   "metadata": {},
   "outputs": [
    {
     "name": "stdout",
     "output_type": "stream",
     "text": [
      "국어 점수70\n",
      "영어 점수60\n",
      "수학 점수70\n",
      "True\n"
     ]
    }
   ],
   "source": [
    "# 점수 3개 입력받아 변수에 대입\n",
    "# 정수로 변환\n",
    "# 평균점수 계산\n",
    "# 평균점수가 60점 이상인지 확인\n",
    "# 각 과목이 40미만이 아닌지 확인\n",
    "# 위 4조건 모두 만족해야 합격\n",
    "\n",
    "a = int(input('국어 점수'))\n",
    "b = int(input('영어 점수'))\n",
    "c = int(input('수학 점수'))\n",
    "\n",
    "avg = (a+b+c)/3 \n",
    "r = avg >= 60 and a>=40 and b>=40 and c>=40\n",
    "print(r)"
   ]
  },
  {
   "cell_type": "markdown",
   "metadata": {},
   "source": [
    "<h1>산술연산자 사용 예제</h1>\n",
    "초 단위의 정수를 입력받는다\n",
    "몇시간 몇분 몇초인지 계산해서 출력\n",
    "\n",
    "[예]\n",
    "초 단위 입력 : 3700\n",
    "1시간 1분 40초 입니다"
   ]
  },
  {
   "cell_type": "code",
   "execution_count": 2,
   "metadata": {},
   "outputs": [
    {
     "name": "stdout",
     "output_type": "stream",
     "text": [
      "초 단위 입력:4500\n",
      "1@@시@@75@@분@@0@@초 입니다\n"
     ]
    }
   ],
   "source": [
    "sec = int(input('초 단위 입력:'))\n",
    "hour= sec//3600\n",
    "second = sec % 3600\n",
    "\n",
    "minute = sec//60\n",
    "second = sec % 60\n",
    "\n",
    "#minute = (sec%3600)//60\n",
    "#second = (sec%3600)%60\n",
    "\n",
    "print(hour,'시',minute,'분',second,'초 입니다', sep='@@', end='\\n')"
   ]
  },
  {
   "cell_type": "code",
   "execution_count": 15,
   "metadata": {},
   "outputs": [
    {
     "name": "stdout",
     "output_type": "stream",
     "text": [
      "100\n",
      "<class 'int'>\n",
      "True\n",
      "True\n",
      "True\n",
      "False\n",
      "False\n",
      "140720076436352\n",
      "140720076436352\n",
      "2102048555504\n",
      "2102048555120\n"
     ]
    }
   ],
   "source": [
    "#데이터 타입, 숫자 함수\n",
    "a = 100\n",
    "b = 100\n",
    "c = '100'\n",
    "d = 1000\n",
    "e = 1000\n",
    "f = '1000'\n",
    "\n",
    "print(a)\n",
    "print(type(a))\n",
    "print(a==b)\n",
    "print(d==e)\n",
    "print(a is b)\n",
    "print(a is c)\n",
    "print(d is e)\n",
    "\n",
    "print(id(a))\n",
    "print(id(b))\n",
    "print(id(d))\n",
    "print(id(e)) #python의 자료는 참조형이다\n"
   ]
  }
 ],
 "metadata": {
  "kernelspec": {
   "display_name": "Python 3",
   "language": "python",
   "name": "python3"
  },
  "language_info": {
   "codemirror_mode": {
    "name": "ipython",
    "version": 3
   },
   "file_extension": ".py",
   "mimetype": "text/x-python",
   "name": "python",
   "nbconvert_exporter": "python",
   "pygments_lexer": "ipython3",
   "version": "3.8.5"
  }
 },
 "nbformat": 4,
 "nbformat_minor": 4
}
