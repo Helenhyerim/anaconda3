{
 "cells": [
  {
   "cell_type": "markdown",
   "metadata": {},
   "source": [
    "for 문"
   ]
  },
  {
   "cell_type": "code",
   "execution_count": 25,
   "metadata": {},
   "outputs": [
    {
     "name": "stdout",
     "output_type": "stream",
     "text": [
      "10\n",
      "20\n",
      "30\n",
      "----------\n",
      "가\n",
      "나\n",
      "다\n",
      "라\n",
      "----------\n",
      "가\n",
      "나\n",
      "다\n",
      "라\n",
      "마\n",
      "1\n",
      "3\n",
      "5\n",
      "7\n",
      "9\n",
      "0 1 2 3 4 5 6 7 8 9 \n",
      "1 3 5 7 9 \n",
      "0 2 4 6 8 10 \n",
      "10 20 30 40 50 60 70 80 90 \n",
      "10 100 1000 10000 \n",
      "시잘 숫자 : 77\n",
      "끝 숫자 :4\n",
      "4 5 6 7 8 9 10 11 12 13 14 15 16 17 18 19 20 21 22 23 24 25 26 27 28 29 30 31 32 33 34 35 36 37 38 39 40 41 42 43 44 45 46 47 48 49 50 51 52 53 54 55 56 57 58 59 60 61 62 63 64 65 66 67 68 69 70 71 72 73 74 75 76 77 \n",
      "시잘 숫자 : 5\n",
      "끝 숫자 :4\n",
      "5 4 \n"
     ]
    }
   ],
   "source": [
    "# 118p\n",
    "# 형식 1\n",
    "for n in [10,20,30] :\n",
    "    print(n)\n",
    "print('-' * 10)\n",
    "\n",
    "# 형식 2\n",
    "for n in '가나다라':\n",
    "    print(n)\n",
    "print('-' * 10)\n",
    "\n",
    "# 형식3\n",
    "s = '가나다라마'\n",
    "for n in s :\n",
    "    print(n)\n",
    "    \n",
    "# 형식 4\n",
    "for n in range(1, 11, 2):\n",
    "    print(n)\n",
    "    \n",
    "# 0 1 2 3 4 5 6 7 8 9 \n",
    "# 1 3 5 7 9\n",
    "# 0 2 4 6 8 10\n",
    "# 10 20 30 40 60 70 8090\n",
    "# 1 10 100 1000 10000\n",
    "for i in range(0, 10, 1):\n",
    "    print(i, end=' ')\n",
    "print()\n",
    "for n in range(1, 10, 2):\n",
    "    print(n, end=' ')\n",
    "print()\n",
    "for n in range(0, 11, 2):\n",
    "    print(n, end=' ')\n",
    "print()\n",
    "for n in range(10, 91, 10):\n",
    "    print(n, end=' ')\n",
    "print()\n",
    "for n in range(1,5,1):\n",
    "    print(10**n, end=' ')\n",
    "print()\n",
    "\n",
    "# 정수 2개 입력받아 그 사이의 모든 정수 출력\n",
    "start = int(input('시잘 숫자 : '))\n",
    "end = int(input('끝 숫자 :'))\n",
    "\n",
    "# 1\n",
    "if start > end :\n",
    "    temp = start\n",
    "    start = end\n",
    "    end = temp\n",
    "\n",
    "for i in range(start, end + 1):\n",
    "    print(i, end=' ')\n",
    "print()\n",
    "\n",
    "# 2\n",
    "start = int(input('시잘 숫자 : '))\n",
    "end = int(input('끝 숫자 :'))\n",
    "step = 1\n",
    "\n",
    "if start > end :\n",
    "    step = -1\n",
    "    end = end - 1\n",
    "else :\n",
    "    end = end + 1\n",
    "\n",
    "for i in range(start, end, step):\n",
    "    print(i, end=' ')\n",
    "print()"
   ]
  },
  {
   "cell_type": "code",
   "execution_count": 37,
   "metadata": {},
   "outputs": [
    {
     "name": "stdout",
     "output_type": "stream",
     "text": [
      "55\n",
      "2605\n",
      "5023\n"
     ]
    }
   ],
   "source": [
    "# 1+2+3+4+5+6+7+8+9+10\n",
    "sum = 0\n",
    "for n in range(1, 11):\n",
    "    sum = sum + n\n",
    "print(sum)\n",
    "\n",
    "# 1~100 중에서 짝수의 합계\n",
    "for n in range(2, 101, 2):\n",
    "    sum = sum + n\n",
    "print(sum)\n",
    "\n",
    "# 1~100 중에서 3의 배수이거나 5의 배수인 정수들의 합계\n",
    "for n in range(1, 101):\n",
    "    if n % 3 == 0 or n % 5 == 0:\n",
    "        sum = sum + n\n",
    "print(sum)\n",
    "\n",
    "# 1부터 정수의 합계를 구한다. 합계가 4000이 넘어가는 순간의 정수는?"
   ]
  },
  {
   "cell_type": "code",
   "execution_count": null,
   "metadata": {},
   "outputs": [],
   "source": []
  },
  {
   "cell_type": "code",
   "execution_count": null,
   "metadata": {},
   "outputs": [],
   "source": []
  }
 ],
 "metadata": {
  "kernelspec": {
   "display_name": "Python 3",
   "language": "python",
   "name": "python3"
  },
  "language_info": {
   "codemirror_mode": {
    "name": "ipython",
    "version": 3
   },
   "file_extension": ".py",
   "mimetype": "text/x-python",
   "name": "python",
   "nbconvert_exporter": "python",
   "pygments_lexer": "ipython3",
   "version": "3.8.5"
  }
 },
 "nbformat": 4,
 "nbformat_minor": 4
}
