{
 "cells": [
  {
   "cell_type": "code",
   "execution_count": 6,
   "metadata": {},
   "outputs": [
    {
     "name": "stdout",
     "output_type": "stream",
     "text": [
      "성적 입력:98\n",
      "성적 입력:98\n",
      "성적 입력:98\n",
      "성적 입력:98\n",
      "성적 입력:98\n",
      "성적 입력:98\n",
      "성적 입력:98\n",
      "성적 입력:98\n",
      "점수 [98, 98, 98, 98, 98, 98, 98, 98]\n",
      "합계 784\n",
      "평균 98.0\n"
     ]
    }
   ],
   "source": [
    "# 01\n",
    "score = []\n",
    "total = 0\n",
    "for n in range(8):\n",
    "    jumsu = int(input('성적 입력:'))\n",
    "    score.append(jumsu)\n",
    "    total += jumsu\n",
    "    avg = total/len(score)\n",
    "print('점수', score)\n",
    "print('합계', total)\n",
    "print('평균', avg)\n",
    "    "
   ]
  },
  {
   "cell_type": "code",
   "execution_count": 8,
   "metadata": {},
   "outputs": [
    {
     "name": "stdout",
     "output_type": "stream",
     "text": [
      "[88, 0, 70, 100, 99]\n"
     ]
    }
   ],
   "source": [
    "# 2\n",
    "score = [88, 95, 70, 100 ,99]\n",
    "score[1] = 0\n",
    "print(score)"
   ]
  },
  {
   "cell_type": "code",
   "execution_count": 10,
   "metadata": {},
   "outputs": [
    {
     "name": "stdout",
     "output_type": "stream",
     "text": [
      "[2, 4, 6, 8, 10, 12, 14, 16, 18, 20, 22, 24, 26, 28, 30, 32, 34, 36, 38, 40, 42, 44, 46, 48, 50, 52, 54, 56, 58, 60, 62, 64, 66, 68, 70, 72, 74, 76, 78, 80, 82, 84, 86, 88, 90, 92, 94, 96, 98, 100]\n"
     ]
    }
   ],
   "source": [
    "# 3\n",
    "list = [n for n in range(1, 101) if n % 2 == 0]\n",
    "print(list)"
   ]
  },
  {
   "cell_type": "code",
   "execution_count": 15,
   "metadata": {},
   "outputs": [
    {
     "name": "stdout",
     "output_type": "stream",
     "text": [
      "[9, 36, 81]\n"
     ]
    }
   ],
   "source": [
    "# 4\n",
    "list = []\n",
    "for n in range(1,11):\n",
    "    if n % 3 == 0:\n",
    "        list.append(n*n)\n",
    "print(list)"
   ]
  },
  {
   "cell_type": "code",
   "execution_count": 30,
   "metadata": {},
   "outputs": [
    {
     "name": "stdout",
     "output_type": "stream",
     "text": [
      "모든 정수의 합계는 80\n"
     ]
    }
   ],
   "source": [
    "li = [10, 2, 5, 30, 'aaa', 'bbb', 3, 0, 20, 10, '', (1,2), [2,3]]\n",
    "sum = 0\n",
    "for n in li:\n",
    "    if type(n) == int :\n",
    "        sum += n\n",
    "    \n",
    "\n",
    "\n",
    "print('모든 정수의 합계는', sum)"
   ]
  },
  {
   "cell_type": "code",
   "execution_count": 32,
   "metadata": {},
   "outputs": [
    {
     "name": "stdout",
     "output_type": "stream",
     "text": [
      "[99, 2, 3]\n"
     ]
    }
   ],
   "source": [
    "def test(x):\n",
    "    x[0] = 99\n",
    "\n",
    "    \n",
    "li = [1,2,3]\n",
    "test(li)\n",
    "print(li)"
   ]
  },
  {
   "cell_type": "code",
   "execution_count": null,
   "metadata": {},
   "outputs": [],
   "source": []
  }
 ],
 "metadata": {
  "kernelspec": {
   "display_name": "Python 3",
   "language": "python",
   "name": "python3"
  },
  "language_info": {
   "codemirror_mode": {
    "name": "ipython",
    "version": 3
   },
   "file_extension": ".py",
   "mimetype": "text/x-python",
   "name": "python",
   "nbconvert_exporter": "python",
   "pygments_lexer": "ipython3",
   "version": "3.8.5"
  }
 },
 "nbformat": 4,
 "nbformat_minor": 4
}
