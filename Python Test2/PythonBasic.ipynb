{
 "cells": [
  {
   "cell_type": "markdown",
   "metadata": {},
   "source": [
    "<h1>Python의 기본 문법</h1>\n",
    "    # 코드작성 형식, 변수, 출력함수, 연산자"
   ]
  },
  {
   "cell_type": "code",
   "execution_count": null,
   "metadata": {},
   "outputs": [],
   "source": [
    "# Python의 한줄 주석\n",
    "\"\"\"긴\n",
    "문자열\"\"\"\n"
   ]
  },
  {
   "cell_type": "code",
   "execution_count": 2,
   "metadata": {},
   "outputs": [
    {
     "name": "stdout",
     "output_type": "stream",
     "text": [
      "10\n",
      "a\n",
      "10 1.234 문자열 문자열상수 111 3.5\n",
      "11.234\n",
      "문자열추가\n",
      "문자열문자열문자열\n",
      "----------------------------------------------------------------------------------------------------\n",
      "<class 'int'>\n",
      "<class 'float'>\n",
      "<class 'str'>\n",
      "<class 'str'>\n"
     ]
    }
   ],
   "source": [
    "# 변수 선언과 자료형\n",
    "a = 10\n",
    "b = 1.234\n",
    "c = '문자열'\n",
    "\n",
    "# 표준 출력\n",
    "print(a)\n",
    "print('a')\n",
    "print(a, b, c, '문자열상수', 111, 3.5)\n",
    "\n",
    "print(a + b)\n",
    "print(c + '추가')\n",
    "#print(a + c)\n",
    "print(c * 3)\n",
    "print('-' * 100)\n",
    "\n",
    "print(type(a))\n",
    "print(type(b))\n",
    "print(type(c))\n",
    "\n",
    "a = 'abc'\n",
    "print(type(a))"
   ]
  },
  {
   "cell_type": "code",
   "execution_count": 12,
   "metadata": {},
   "outputs": [
    {
     "name": "stdout",
     "output_type": "stream",
     "text": [
      "1 2 3\n",
      "1 2 3\n",
      "1*2*3#1****2****3####123123"
     ]
    }
   ],
   "source": [
    "# 출력 함수 사용법\n",
    "print(1,2,3)\n",
    "print(1,2,3)\n",
    "\n",
    "print(1,2,3, sep='*', end='#')\n",
    "print(1,2,3, sep='****', end='####')\n",
    "\n",
    "print(1,2,3, sep='', end='')\n",
    "print(1,2,3, sep='', end='')\n",
    "\n"
   ]
  }
 ],
 "metadata": {
  "kernelspec": {
   "display_name": "Python 3",
   "language": "python",
   "name": "python3"
  },
  "language_info": {
   "codemirror_mode": {
    "name": "ipython",
    "version": 3
   },
   "file_extension": ".py",
   "mimetype": "text/x-python",
   "name": "python",
   "nbconvert_exporter": "python",
   "pygments_lexer": "ipython3",
   "version": "3.8.5"
  }
 },
 "nbformat": 4,
 "nbformat_minor": 4
}
