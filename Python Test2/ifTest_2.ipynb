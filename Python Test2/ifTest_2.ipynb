{
 "cells": [
  {
   "cell_type": "markdown",
   "metadata": {},
   "source": [
    "if문, 연산자 연습\n",
    "- 정수형으로 태어난 해를 입력받는다\n",
    "- 띠를 출력\n",
    "- 그 해가 윤년인지 평년인지 출력\n",
    "- 윤년: 4년마다, 100년마다 평년, 400년마다 무조건 윤년"
   ]
  },
  {
   "cell_type": "code",
   "execution_count": 8,
   "metadata": {},
   "outputs": [
    {
     "name": "stdout",
     "output_type": "stream",
     "text": [
      "태어난 해1996\n",
      "쥐띠\n",
      "평년\n"
     ]
    }
   ],
   "source": [
    "year = int(input('태어난 해'))\n",
    "if year % 12 == 4:\n",
    "    print('쥐띠')\n",
    "elif year % 12 == 5:\n",
    "    print('소띠')\n",
    "elif year % 12 == 6:\n",
    "    print('호랑이띠')\n",
    "elif year % 12 == 7:\n",
    "    print('토끼띠')\n",
    "elif year % 12 == 8:\n",
    "    print('용띠')\n",
    "elif year % 12 == 9:\n",
    "    print('뱀띠')\n",
    "elif year % 12 == 10:\n",
    "    print('말띠')\n",
    "elif year % 12 == 11:\n",
    "    print('양띠')\n",
    "elif year % 12 == 0:\n",
    "    print('원숭이띠')\n",
    "elif year % 12 == 1:\n",
    "    print('닭띠')\n",
    "elif year % 12 == 2:\n",
    "    print('개띠')\n",
    "elif year % 12 == 3:\n",
    "    print('돼지띠')\n",
    "    \n",
    "if (year % 4 == 0 & year % 100 != 0) or (year % 400 == 0):\n",
    "    print('윤년')\n",
    "else:\n",
    "    print('평년')"
   ]
  },
  {
   "cell_type": "markdown",
   "metadata": {},
   "source": [
    "<h2>정수를 입력받아 해당 번호의 문자를 출력</h2>\n",
    "<pre>예) 코드번호 : 65\n",
    "    문자 : A</pre>\n",
    "    정수를 해당 유니코드 번호를 가진 문자로 변환하는 함수 (ord, chr)"
   ]
  },
  {
   "cell_type": "code",
   "execution_count": 9,
   "metadata": {},
   "outputs": [
    {
     "name": "stdout",
     "output_type": "stream",
     "text": [
      "코드번호:4434\n",
      "문자: ᅒ\n"
     ]
    }
   ],
   "source": [
    "n = int(input('코드번호:'))\n",
    "print('문자:',chr(n))"
   ]
  },
  {
   "cell_type": "markdown",
   "metadata": {},
   "source": [
    "<h2>정수 2개와 연산자를 입력받아 계산 결과 출력</h2>\n",
    "<pre>\n",
    "예) 정수 1: 10\n",
    "    연산자: -\n",
    "    정수 2: 20\n",
    "    -----------\n",
    "    10 - 20 = -10\n",
    "</pre>"
   ]
  },
  {
   "cell_type": "code",
   "execution_count": 11,
   "metadata": {},
   "outputs": [
    {
     "name": "stdout",
     "output_type": "stream",
     "text": [
      "정수를 입력하세요:4\n",
      "정수를 입력하세요:6\n",
      "연산자를 입력하세요(+,-,*,/):*\n",
      "a*b= 24\n"
     ]
    }
   ],
   "source": [
    "a = int(input('정수를 입력하세요:'))\n",
    "b = int(input('정수를 입력하세요:'))\n",
    "c = input('연산자를 입력하세요(+,-,*,/):')\n",
    "\n",
    "if c == '+':\n",
    "    print('a+b=',a+b)\n",
    "elif c == '-':\n",
    "    print('a-b=',a-b)\n",
    "elif c == '*':\n",
    "    print('a*b=',a*b)\n",
    "elif c == '/':\n",
    "    print('a/b=',a/b)"
   ]
  },
  {
   "cell_type": "markdown",
   "metadata": {},
   "source": [
    "<h2>10진 정수와 진법을 입력받아 변환해서 출력</h2>\n",
    "예) 10진 정수: 127\n",
    "    진법 선택2/8/10/16 : 2\n",
    "    127(2) -> 111111(2)\n",
    "    \n",
    "   정수를 문자열로 변환하는 함수들(str, bin, oct, hex)"
   ]
  },
  {
   "cell_type": "code",
   "execution_count": 7,
   "metadata": {},
   "outputs": [
    {
     "name": "stdout",
     "output_type": "stream",
     "text": [
      "정수를 입력하세요:45\n",
      "진법 선택(2/8/10/16)2\n",
      "0b101101\n"
     ]
    }
   ],
   "source": [
    "n = int(input('정수를 입력하세요:'))\n",
    "m = int(input('진법 선택(2/8/10/16)'))\n",
    "\n",
    "if m == 2:\n",
    "    print(bin(n))\n",
    "elif m == 8:\n",
    "    print(oct(n))\n",
    "elif m == 10:\n",
    "    print(print(n))\n",
    "elif m == 16:\n",
    "    print(hex(n))"
   ]
  },
  {
   "cell_type": "code",
   "execution_count": null,
   "metadata": {},
   "outputs": [],
   "source": []
  }
 ],
 "metadata": {
  "kernelspec": {
   "display_name": "Python 3",
   "language": "python",
   "name": "python3"
  },
  "language_info": {
   "codemirror_mode": {
    "name": "ipython",
    "version": 3
   },
   "file_extension": ".py",
   "mimetype": "text/x-python",
   "name": "python",
   "nbconvert_exporter": "python",
   "pygments_lexer": "ipython3",
   "version": "3.8.5"
  }
 },
 "nbformat": 4,
 "nbformat_minor": 4
}
