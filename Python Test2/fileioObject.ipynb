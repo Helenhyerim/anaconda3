{
 "cells": [
  {
   "cell_type": "markdown",
   "metadata": {},
   "source": [
    "객체 저장\n"
   ]
  },
  {
   "cell_type": "code",
   "execution_count": 4,
   "metadata": {},
   "outputs": [],
   "source": [
    "import pickle\n",
    "\n",
    "slist = {'aaa', 'bbbb', 'cc'}\n",
    "smap = {1:'abc', 2:'def', 3:'ghi'}\n",
    "\n",
    "file = open('list.dat', 'wb')\n",
    "pickle.dump(slist, file)\n",
    "pickle.dump(smap, file)\n",
    "file.close()"
   ]
  },
  {
   "cell_type": "code",
   "execution_count": 12,
   "metadata": {},
   "outputs": [
    {
     "name": "stdout",
     "output_type": "stream",
     "text": [
      "<class 'set'> {'aaa', 'bbbb', 'cc'}\n",
      "<class 'dict'> {1: 'abc', 2: 'def', 3: 'ghi'}\n"
     ]
    }
   ],
   "source": [
    "import pickle\n",
    "\n",
    "file = open('list.dat', 'rb')\n",
    "try:\n",
    "    while True:\n",
    "        op = pickle.load(file)\n",
    "        print(type(op), op)\n",
    "except EOFError:\n",
    "    file.close()\n"
   ]
  },
  {
   "cell_type": "code",
   "execution_count": null,
   "metadata": {},
   "outputs": [],
   "source": []
  },
  {
   "cell_type": "code",
   "execution_count": null,
   "metadata": {},
   "outputs": [],
   "source": []
  }
 ],
 "metadata": {
  "kernelspec": {
   "display_name": "Python 3",
   "language": "python",
   "name": "python3"
  },
  "language_info": {
   "codemirror_mode": {
    "name": "ipython",
    "version": 3
   },
   "file_extension": ".py",
   "mimetype": "text/x-python",
   "name": "python",
   "nbconvert_exporter": "python",
   "pygments_lexer": "ipython3",
   "version": "3.8.5"
  }
 },
 "nbformat": 4,
 "nbformat_minor": 4
}
