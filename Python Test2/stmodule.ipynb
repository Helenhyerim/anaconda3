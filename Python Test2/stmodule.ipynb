{
 "cells": [
  {
   "cell_type": "markdown",
   "metadata": {},
   "source": [
    "표준모듈"
   ]
  },
  {
   "cell_type": "code",
   "execution_count": 4,
   "metadata": {},
   "outputs": [
    {
     "name": "stdout",
     "output_type": "stream",
     "text": [
      "<class 'dict'>\n",
      "<class 'set'>\n"
     ]
    }
   ],
   "source": [
    "a = []\n",
    "a = list()\n",
    "b = ()\n",
    "b = tuple()\n",
    "c = {}\n",
    "c = dict()\n",
    "print(type(c))\n",
    "d = set()\n",
    "print(type(d))"
   ]
  },
  {
   "cell_type": "code",
   "execution_count": 26,
   "metadata": {},
   "outputs": [
    {
     "name": "stdout",
     "output_type": "stream",
     "text": [
      "3.141592653589793\n",
      "4\n",
      "-3\n",
      "4.333333333333333\n",
      "2\n",
      "4\n",
      "8\n",
      "2.8125\n",
      "2\n",
      "6.75\n"
     ]
    }
   ],
   "source": [
    "# 수학 # 262p\n",
    "import math as m\n",
    "\n",
    "math.sqrt(9) # 제곱근\n",
    "print(m.pi)\n",
    "print(m.ceil(3.1))\n",
    "print(m.ceil(-3.1))\n",
    "\n",
    "# 통계\n",
    "import statistics as st\n",
    "\n",
    "li = [1,2,3,4,6,5,8,2,8]\n",
    "print(st.mean(li))\n",
    "print(st.mode(li))\n",
    "print(st.median(li))\n",
    "print(max(li))\n",
    "print(st.harmonic_mean(li))\n",
    "print(st.mode(li))\n",
    "print(st.variance(li))"
   ]
  },
  {
   "cell_type": "code",
   "execution_count": 32,
   "metadata": {},
   "outputs": [
    {
     "name": "stdout",
     "output_type": "stream",
     "text": [
      "1618983832.696985\n",
      "Wed Apr 21 14:43:52 2021\n",
      "time.struct_time(tm_year=2021, tm_mon=4, tm_mday=21, tm_hour=14, tm_min=43, tm_sec=52, tm_wday=2, tm_yday=111, tm_isdst=0)\n",
      "2021 년\n"
     ]
    }
   ],
   "source": [
    "# 날짜, 시간\n",
    "import time\n",
    "\n",
    "t = time.time()\n",
    "print(t)\n",
    "print(time.ctime(t))\n",
    "\n",
    "t2 = time.localtime(t)\n",
    "print(t2)\n",
    "print(t2.tm_year,'년')"
   ]
  },
  {
   "cell_type": "code",
   "execution_count": 36,
   "metadata": {},
   "outputs": [
    {
     "name": "stdout",
     "output_type": "stream",
     "text": [
      "0.0029938220977783203 초\n",
      "aaaaaa\n",
      "aaaaaa\n",
      "aaaaaa\n",
      "aaaaaa\n",
      "aaaaaa\n",
      "aaaaaa\n",
      "aaaaaa\n",
      "aaaaaa\n",
      "aaaaaa\n",
      "aaaaaa\n"
     ]
    }
   ],
   "source": [
    "import time\n",
    "\n",
    "start = time.time()\n",
    "li = []\n",
    "for n in range(10000):\n",
    "    li.append(n)\n",
    "end = time.time()\n",
    "\n",
    "print(end - start, '초')\n",
    "\n",
    "for n in range(10):\n",
    "    print('aaaaaa')\n",
    "    time.sleep(1)"
   ]
  },
  {
   "cell_type": "code",
   "execution_count": 57,
   "metadata": {},
   "outputs": [
    {
     "name": "stdout",
     "output_type": "stream",
     "text": [
      "5 6 10 2 5 4 5 4 7 2 8 10 6 5 1 2 3 8 8 4 2 7 8 8 8 8 4 3 8 1 3 5 10 2 7 8 7 5 1 4 8 1 1 10 4 5 3 5 6 4 2 9 1 8 6 10 9 10 9 9 6 6 9 5 8 6 2 6 10 7 5 9 4 5 3 7 2 4 8 4 5 5 3 8 2 4 6 4 7 9 8 2 8 1 1 8 4 4 10 8 ----\n",
      "\n",
      "7\n",
      "7\n",
      "7\n",
      "2\n",
      "9\n",
      "1\n",
      "9\n",
      "9\n",
      "3\n",
      "9\n",
      "----\n",
      "4\n",
      "8\n",
      "7\n",
      "0\n",
      "9\n",
      "6\n",
      "4\n",
      "9\n",
      "5\n",
      "7\n"
     ]
    },
    {
     "ename": "TypeError",
     "evalue": "randint() takes 3 positional arguments but 4 were given",
     "output_type": "error",
     "traceback": [
      "\u001b[1;31m---------------------------------------------------------------------------\u001b[0m",
      "\u001b[1;31mTypeError\u001b[0m                                 Traceback (most recent call last)",
      "\u001b[1;32m<ipython-input-57-29ecca401feb>\u001b[0m in \u001b[0;36m<module>\u001b[1;34m\u001b[0m\n\u001b[0;32m     25\u001b[0m \u001b[1;33m\u001b[0m\u001b[0m\n\u001b[0;32m     26\u001b[0m \u001b[1;32mfor\u001b[0m \u001b[0mc\u001b[0m \u001b[1;32min\u001b[0m \u001b[0mrange\u001b[0m\u001b[1;33m(\u001b[0m\u001b[1;36m10\u001b[0m\u001b[1;33m)\u001b[0m\u001b[1;33m:\u001b[0m\u001b[1;33m\u001b[0m\u001b[1;33m\u001b[0m\u001b[0m\n\u001b[1;32m---> 27\u001b[1;33m     \u001b[0mnum\u001b[0m \u001b[1;33m=\u001b[0m \u001b[0mrandom\u001b[0m\u001b[1;33m.\u001b[0m\u001b[0mrandint\u001b[0m\u001b[1;33m(\u001b[0m\u001b[1;36m0\u001b[0m\u001b[1;33m,\u001b[0m \u001b[1;36m100\u001b[0m\u001b[1;33m,\u001b[0m\u001b[1;36m2\u001b[0m\u001b[1;33m)\u001b[0m\u001b[1;33m\u001b[0m\u001b[1;33m\u001b[0m\u001b[0m\n\u001b[0m\u001b[0;32m     28\u001b[0m     \u001b[0mprint\u001b[0m\u001b[1;33m(\u001b[0m\u001b[0mnum\u001b[0m\u001b[1;33m)\u001b[0m\u001b[1;33m\u001b[0m\u001b[1;33m\u001b[0m\u001b[0m\n",
      "\u001b[1;31mTypeError\u001b[0m: randint() takes 3 positional arguments but 4 were given"
     ]
    }
   ],
   "source": [
    "# 난수\n",
    "import random\n",
    "\n",
    "#print(random.random())\n",
    "#print(random.randint(5,10))\n",
    "\n",
    "for n in range(100):\n",
    "    num = random.randint(1, 10)\n",
    "    print(num, end = ' ')\n",
    "print('----')\n",
    "print()\n",
    "\n",
    "# 1~10 까지의 정수\n",
    "# 0 ~ 9\n",
    "# 0~ 100 의 짝수\n",
    "\n",
    "for a in range(10):\n",
    "    num = random.randint(1, 10)\n",
    "    print(num)\n",
    "print('----')\n",
    "    \n",
    "for b in range (10):\n",
    "    num = random.randint(0, 9)\n",
    "    print(num)\n",
    "    \n",
    "for c in range(10):\n",
    "    num = random.randint(0, 100)\n",
    "    print(num)"
   ]
  },
  {
   "cell_type": "code",
   "execution_count": 111,
   "metadata": {},
   "outputs": [
    {
     "name": "stdout",
     "output_type": "stream",
     "text": [
      "1 6 5 2 4 \n",
      "검정\n",
      "[37, 92, 56, 57, 73, 45, 47, 63, 22, 20, 53, 14, 25, 23, 71, 7, 82, 31, 84, 88, 34, 91, 20, 64, 10, 47, 44, 91, 31, 39, 7, 72, 97, 70, 59, 34, 76, 97, 55, 7, 99, 99, 3, 71, 25, 34, 69, 65, 64, 71, 77, 0, 15, 99, 92, 15, 78, 95, 44, 39, 7, 29, 59, 9, 12, 80, 100, 72, 67, 88, 95, 33, 6, 57, 8, 1, 82, 3, 89, 52, 1, 33, 75, 54, 78, 62, 0, 44, 12, 93, 45, 51, 36, 83, 34, 25, 38, 71, 37, 94]\n"
     ]
    }
   ],
   "source": [
    "# 하나의 주사위를 5번 던져 -> 결과 출력\n",
    "for n in range(5):\n",
    "    num = random.randint(1, 6)\n",
    "    print(num, end = ' ')\n",
    "print()\n",
    "\n",
    "# 준비한 값들 중에서 무작위 선택\n",
    "names = ['빨강', '파랑', '초록', '검정']\n",
    "\n",
    "n = random.randint(0, len(names) -1)\n",
    "print(names[n])\n",
    "    \n",
    "    \n",
    "# 임의의 데이터 만들기\n",
    "li = []\n",
    "\n",
    "for n in range(100):\n",
    "    num = random.randint(0, 100)\n",
    "    li.append(num)\n",
    "print(li)\n",
    "\n"
   ]
  },
  {
   "cell_type": "code",
   "execution_count": 1,
   "metadata": {},
   "outputs": [
    {
     "name": "stdout",
     "output_type": "stream",
     "text": [
      "[21, 44, 38, 35, 24, 45]\n",
      "[2, 18, 4, 14, 16, 12]\n",
      "[45, 42, 38, 3, 6, 12]\n",
      "[32, 16, 6, 8, 43, 44]\n",
      "[2, 42, 28, 23, 39, 4]\n"
     ]
    }
   ],
   "source": [
    "# 중복되지 않는 1~45 범위의 무작위 수 6개 생성, \n",
    "#리스트에 저장 , 결과출력, 5세트\n",
    "\n",
    "import random\n",
    "\n",
    "for i in range (5):\n",
    "    li = []\n",
    "    for i in range(6):\n",
    "        while True:\n",
    "            n = random.randint(1, 45)\n",
    "            if n not in li : break\n",
    "        li.append(n)        \n",
    "    print(li)    "
   ]
  },
  {
   "cell_type": "code",
   "execution_count": null,
   "metadata": {},
   "outputs": [],
   "source": []
  }
 ],
 "metadata": {
  "kernelspec": {
   "display_name": "Python 3",
   "language": "python",
   "name": "python3"
  },
  "language_info": {
   "codemirror_mode": {
    "name": "ipython",
    "version": 3
   },
   "file_extension": ".py",
   "mimetype": "text/x-python",
   "name": "python",
   "nbconvert_exporter": "python",
   "pygments_lexer": "ipython3",
   "version": "3.8.5"
  }
 },
 "nbformat": 4,
 "nbformat_minor": 4
}
